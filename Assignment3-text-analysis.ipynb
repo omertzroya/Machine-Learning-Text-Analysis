{
 "cells": [
  {
   "cell_type": "markdown",
   "metadata": {},
   "source": [
    "# Assignment 3 - Text Analysis\n",
    "An explanation this assignment could be found in the .pdf explanation document"
   ]
  },
  {
   "cell_type": "markdown",
   "metadata": {},
   "source": [
    "\n",
    "## Materials to review for this assignment\n",
    "<h4>From Moodle:</h4> \n",
    "<h5><u>Review the notebooks regarding the following python topics</u>:</h5>\n",
    "<div class=\"alert alert-info\">\n",
    "&#x2714; <b>Working with strings</b> (tutorial notebook)<br/>\n",
    "&#x2714; <b>Text Analysis</b> (tutorial notebook)<br/>\n",
    "&#x2714; <b>Hebrew text analysis tools (tokenizer, wordnet)</b> (moodle example)<br/>\n",
    "&#x2714; <b>(brief review) All previous notebooks</b><br/>\n",
    "</div> \n",
    "<h5><u>Review the presentations regarding the following topics</u>:</h5>\n",
    "<div class=\"alert alert-info\">\n",
    "&#x2714; <b>Text Analysis</b> (lecture presentation)<br/>\n",
    "&#x2714; <b>(brief review) All other presentations</b><br/>\n",
    "</div>"
   ]
  },
  {
   "cell_type": "markdown",
   "metadata": {},
   "source": [
    "## Personal Details:"
   ]
  },
  {
   "cell_type": "code",
   "execution_count": 1,
   "metadata": {},
   "outputs": [
    {
     "name": "stdout",
     "output_type": "stream",
     "text": [
      "Details Student 1: 315998971, Roy Shlomo Chen\n",
      "Details Student 2: 318911161, Omer Sruia\n"
     ]
    }
   ],
   "source": [
    "# Details Student 1: 315998971, Roy Shlomo Chen\n",
    "\n",
    "# Details Student 2: 318911161, Omer Sruia\n",
    "print(\"Details Student 1: 315998971, Roy Shlomo Chen\\nDetails Student 2: 318911161, Omer Sruia\")"
   ]
  },
  {
   "cell_type": "markdown",
   "metadata": {},
   "source": [
    "## Preceding Step - import modules (packages)\n",
    "This step is necessary in order to use external modules (packages). <br/>"
   ]
  },
  {
   "cell_type": "code",
   "execution_count": 2,
   "metadata": {},
   "outputs": [],
   "source": [
    "# --------------------------------------\n",
    "import pandas as pd\n",
    "import numpy as np\n",
    "# --------------------------------------\n",
    "\n",
    "\n",
    "# --------------------------------------\n",
    "# ------------- visualizations:\n",
    "import seaborn as sns\n",
    "import matplotlib.pyplot as plt\n",
    "from matplotlib.colors import ListedColormap\n",
    "# --------------------------------------\n",
    "\n",
    "\n",
    "# ---------------------------------------\n",
    "import sklearn\n",
    "from sklearn import preprocessing, metrics, pipeline, model_selection, feature_extraction \n",
    "from sklearn import naive_bayes, linear_model, svm, neural_network, neighbors, tree\n",
    "from sklearn import decomposition, cluster\n",
    "\n",
    "from sklearn.model_selection import train_test_split, cross_val_score, GridSearchCV \n",
    "from sklearn.pipeline import Pipeline\n",
    "from sklearn.metrics import accuracy_score, confusion_matrix, make_scorer\n",
    "from sklearn.metrics import precision_score, recall_score, f1_score\n",
    "from sklearn.metrics import mean_squared_error, r2_score, silhouette_score\n",
    "from sklearn.preprocessing import MinMaxScaler, StandardScaler, LabelEncoder\n",
    "\n",
    "from sklearn.svm import LinearSVC\n",
    "from sklearn.neural_network import MLPClassifier\n",
    "from sklearn.linear_model import Perceptron, SGDClassifier\n",
    "from sklearn.decomposition import PCA\n",
    "from sklearn.cluster import KMeans\n",
    "from sklearn.naive_bayes import MultinomialNB, GaussianNB\n",
    "from sklearn.neighbors import KNeighborsClassifier\n",
    "from sklearn.tree import DecisionTreeClassifier\n",
    "# ---------------------------------------\n",
    "\n",
    "\n",
    "# ----------------- output and visualizations: \n",
    "import warnings\n",
    "from sklearn import set_config\n",
    "from sklearn.exceptions import ConvergenceWarning\n",
    "warnings.simplefilter(\"ignore\")\n",
    "warnings.simplefilter(action='ignore', category=FutureWarning)\n",
    "warnings.simplefilter(\"ignore\", category=ConvergenceWarning)\n",
    "# show several prints in one cell. This will allow us to condence every trick in one cell.\n",
    "from IPython.core.interactiveshell import InteractiveShell\n",
    "InteractiveShell.ast_node_interactivity = \"all\"\n",
    "%matplotlib inline\n",
    "pd.pandas.set_option('display.max_columns', None)\n",
    "pd.set_option('display.float_format', lambda x: '%.3f' % x)\n",
    "# ---------------------------------------"
   ]
  },
  {
   "cell_type": "markdown",
   "metadata": {},
   "source": [
    "### Text analysis and String manipulation imports:"
   ]
  },
  {
   "cell_type": "code",
   "execution_count": 3,
   "metadata": {},
   "outputs": [],
   "source": [
    "# --------------------------------------\n",
    "# --------- Text analysis and Hebrew text analysis imports:\n",
    "# vectorizers:\n",
    "from sklearn.feature_extraction import text\n",
    "from sklearn.feature_extraction.text import CountVectorizer, TfidfVectorizer\n",
    "\n",
    "# regular expressions:\n",
    "import re\n",
    "# --------------------------------------"
   ]
  },
  {
   "cell_type": "markdown",
   "metadata": {},
   "source": [
    "### (optional) Hebrew text analysis - WordNet (for Hebrew)\n",
    "Note: the WordNet is not a must"
   ]
  },
  {
   "cell_type": "markdown",
   "metadata": {},
   "source": [
    "#### (optional) Only if you didn't install Wordnet (for Hebrew) use:"
   ]
  },
  {
   "cell_type": "code",
   "execution_count": 4,
   "metadata": {},
   "outputs": [],
   "source": [
    "# word net installation:\n",
    "\n",
    "# unmark if you want to use and need to install\n",
    "# !pip install wn\n",
    "# !python -m wn download omw-he:1.4"
   ]
  },
  {
   "cell_type": "code",
   "execution_count": 5,
   "metadata": {},
   "outputs": [],
   "source": [
    "# word net import:\n",
    "\n",
    "# unmark if you want to use:\n",
    "# import wn"
   ]
  },
  {
   "cell_type": "markdown",
   "metadata": {},
   "source": [
    "### (optional) Hebrew text analysis - hebrew_tokenizer (Tokenizer for Hebrew)\n",
    "Note: the hebrew_tokenizer is not a must"
   ]
  },
  {
   "cell_type": "markdown",
   "metadata": {},
   "source": [
    "#### (optional) Only if you didn't install hebrew_tokenizer use:"
   ]
  },
  {
   "cell_type": "code",
   "execution_count": 6,
   "metadata": {},
   "outputs": [],
   "source": [
    "# Hebrew tokenizer installation:\n",
    "\n",
    "# unmark if you want to use and need to install:\n",
    "# !pip install hebrew_tokenizer"
   ]
  },
  {
   "cell_type": "code",
   "execution_count": 8,
   "metadata": {},
   "outputs": [
    {
     "name": "stdout",
     "output_type": "stream",
     "text": [
      "C:\\Users\\roych\\OneDrive\\שולחן העבודה\\Text Anylsis 2\\assignment3-text_analysis\n"
     ]
    }
   ],
   "source": [
    "# Hebrew tokenizer import:\n",
    "\n",
    "# unmark if you want to use:\n",
    "import hebrew_tokenizer as ht"
   ]
  },
  {
   "cell_type": "markdown",
   "metadata": {},
   "source": [
    "### Reading input files\n",
    "Reading input files for train annotated corpus (raw text data) corpus and for the test corpus"
   ]
  },
  {
   "cell_type": "code",
   "execution_count": 9,
   "metadata": {},
   "outputs": [],
   "source": [
    "train_filename = 'annotated_corpus_for_train.csv'\n",
    "test_filename  = 'corpus_for_test.csv'\n",
    "df_train = pd.read_csv(train_filename, index_col=None, encoding='utf-8')\n",
    "df_test  = pd.read_csv(test_filename, index_col=None, encoding='utf-8')"
   ]
  },
  {
   "cell_type": "code",
   "execution_count": 10,
   "metadata": {},
   "outputs": [
    {
     "data": {
      "text/html": [
       "<div>\n",
       "<style scoped>\n",
       "    .dataframe tbody tr th:only-of-type {\n",
       "        vertical-align: middle;\n",
       "    }\n",
       "\n",
       "    .dataframe tbody tr th {\n",
       "        vertical-align: top;\n",
       "    }\n",
       "\n",
       "    .dataframe thead th {\n",
       "        text-align: right;\n",
       "    }\n",
       "</style>\n",
       "<table border=\"1\" class=\"dataframe\">\n",
       "  <thead>\n",
       "    <tr style=\"text-align: right;\">\n",
       "      <th></th>\n",
       "      <th>story</th>\n",
       "      <th>gender</th>\n",
       "    </tr>\n",
       "  </thead>\n",
       "  <tbody>\n",
       "    <tr>\n",
       "      <th>0</th>\n",
       "      <td>כשחבר הזמין אותי לחול, לא באמת חשבתי שזה יקרה,...</td>\n",
       "      <td>m</td>\n",
       "    </tr>\n",
       "    <tr>\n",
       "      <th>1</th>\n",
       "      <td>לפני שהתגייסתי לצבא עשיתי כל מני מיונים ליחידו...</td>\n",
       "      <td>m</td>\n",
       "    </tr>\n",
       "    <tr>\n",
       "      <th>2</th>\n",
       "      <td>מאז שהתחילו הלימודים חלומו של כל סטודנט זה הפנ...</td>\n",
       "      <td>f</td>\n",
       "    </tr>\n",
       "    <tr>\n",
       "      <th>3</th>\n",
       "      <td>כשהייתי ילד, מטוסים היה הדבר שהכי ריתק אותי. ב...</td>\n",
       "      <td>m</td>\n",
       "    </tr>\n",
       "    <tr>\n",
       "      <th>4</th>\n",
       "      <td>‏הייתי מדריכה בכפר נוער ומתאם הכפר היינו צריכי...</td>\n",
       "      <td>f</td>\n",
       "    </tr>\n",
       "    <tr>\n",
       "      <th>5</th>\n",
       "      <td>לפני כ3 חודשים טסתי לרומא למשך שבוע. טסתי במטו...</td>\n",
       "      <td>f</td>\n",
       "    </tr>\n",
       "    <tr>\n",
       "      <th>6</th>\n",
       "      <td>אני כבר שנתיים נשוי והשנה אני ואישתי סוף סוף י...</td>\n",
       "      <td>m</td>\n",
       "    </tr>\n",
       "    <tr>\n",
       "      <th>7</th>\n",
       "      <td>השנה התחלנו שיפוץ בדירה שלנו בתל אביב. הדירה ה...</td>\n",
       "      <td>f</td>\n",
       "    </tr>\n",
       "  </tbody>\n",
       "</table>\n",
       "</div>"
      ],
      "text/plain": [
       "                                               story gender\n",
       "0  כשחבר הזמין אותי לחול, לא באמת חשבתי שזה יקרה,...      m\n",
       "1  לפני שהתגייסתי לצבא עשיתי כל מני מיונים ליחידו...      m\n",
       "2  מאז שהתחילו הלימודים חלומו של כל סטודנט זה הפנ...      f\n",
       "3  כשהייתי ילד, מטוסים היה הדבר שהכי ריתק אותי. ב...      m\n",
       "4  ‏הייתי מדריכה בכפר נוער ומתאם הכפר היינו צריכי...      f\n",
       "5  לפני כ3 חודשים טסתי לרומא למשך שבוע. טסתי במטו...      f\n",
       "6  אני כבר שנתיים נשוי והשנה אני ואישתי סוף סוף י...      m\n",
       "7  השנה התחלנו שיפוץ בדירה שלנו בתל אביב. הדירה ה...      f"
      ]
     },
     "execution_count": 10,
     "metadata": {},
     "output_type": "execute_result"
    },
    {
     "data": {
      "text/plain": [
       "(753, 2)"
      ]
     },
     "execution_count": 10,
     "metadata": {},
     "output_type": "execute_result"
    }
   ],
   "source": [
    "df_train.head(8)\n",
    "df_train.shape"
   ]
  },
  {
   "cell_type": "code",
   "execution_count": 11,
   "metadata": {},
   "outputs": [
    {
     "data": {
      "text/html": [
       "<div>\n",
       "<style scoped>\n",
       "    .dataframe tbody tr th:only-of-type {\n",
       "        vertical-align: middle;\n",
       "    }\n",
       "\n",
       "    .dataframe tbody tr th {\n",
       "        vertical-align: top;\n",
       "    }\n",
       "\n",
       "    .dataframe thead th {\n",
       "        text-align: right;\n",
       "    }\n",
       "</style>\n",
       "<table border=\"1\" class=\"dataframe\">\n",
       "  <thead>\n",
       "    <tr style=\"text-align: right;\">\n",
       "      <th></th>\n",
       "      <th>test_example_id</th>\n",
       "      <th>story</th>\n",
       "    </tr>\n",
       "  </thead>\n",
       "  <tbody>\n",
       "    <tr>\n",
       "      <th>0</th>\n",
       "      <td>0</td>\n",
       "      <td>כל קיץ אני והמשפחה נוסעים לארצות הברית לוס אנג...</td>\n",
       "    </tr>\n",
       "    <tr>\n",
       "      <th>1</th>\n",
       "      <td>1</td>\n",
       "      <td>הגעתי לשירות המדינה אחרי שנתיים כפעיל בתנועת \"...</td>\n",
       "    </tr>\n",
       "    <tr>\n",
       "      <th>2</th>\n",
       "      <td>2</td>\n",
       "      <td>אחת האהבות הגדולות שלי אלו הכלבים שלי ושל אישת...</td>\n",
       "    </tr>\n",
       "  </tbody>\n",
       "</table>\n",
       "</div>"
      ],
      "text/plain": [
       "   test_example_id                                              story\n",
       "0                0  כל קיץ אני והמשפחה נוסעים לארצות הברית לוס אנג...\n",
       "1                1  הגעתי לשירות המדינה אחרי שנתיים כפעיל בתנועת \"...\n",
       "2                2  אחת האהבות הגדולות שלי אלו הכלבים שלי ושל אישת..."
      ]
     },
     "execution_count": 11,
     "metadata": {},
     "output_type": "execute_result"
    },
    {
     "data": {
      "text/plain": [
       "(323, 2)"
      ]
     },
     "execution_count": 11,
     "metadata": {},
     "output_type": "execute_result"
    }
   ],
   "source": [
    "df_test.head(3)\n",
    "df_test.shape"
   ]
  },
  {
   "cell_type": "markdown",
   "metadata": {},
   "source": [
    "### Your implementation:\n",
    "Write your code solution in the following code-cells"
   ]
  },
  {
   "cell_type": "markdown",
   "metadata": {},
   "source": [
    "<font face=\"Cooper Black\" size=7 color='#CDB79E'>Pre-processing</font>    \n"
   ]
  },
  {
   "cell_type": "markdown",
   "metadata": {},
   "source": [
    "<font face=\"Tahoma bolt\" size=3 color='#00000'>This function takes Hebrew text as input, tokenizes it, </font>    \n",
    "<font face=\"Tahoma bolt\" size=3 color='#00000'>and extracts Hebrew tokens, creating a list of those tokens for further use. </font>    \n",
    "<font face=\"Tahoma bolt\" size=3 color='#00000'>delete unnecessery numeric,punctioation and extra spaces tabs. </font>    \n"
   ]
  },
  {
   "cell_type": "code",
   "execution_count": 12,
   "metadata": {},
   "outputs": [],
   "source": [
    "def tokenized(hebText):\n",
    "    token = ht.tokenize(hebText)\n",
    "    tok_list = list(filter(lambda x: (x[0] == 'HEBREW'),token))\n",
    "    tok_list = [tuple[1] for tuple in tok_list]\n",
    "    tok_list\n",
    "    return tok_list\n",
    "\n"
   ]
  },
  {
   "cell_type": "markdown",
   "metadata": {},
   "source": [
    "<font face=\"Tahoma bolt\" size=3 color='#00000'>Divide the train seperate frames , 'story' and the 'gender' ( so it will be the target ) </font>    \n",
    "<font face=\"Tahoma bolt\" size=3 color='#00000'>The target feture 'gender' will change from categorial type to numeric.  </font>    \n"
   ]
  },
  {
   "cell_type": "code",
   "execution_count": 13,
   "metadata": {},
   "outputs": [],
   "source": [
    "X_train = df_train[\"story\"]\n",
    "y_train = df_train[\"gender\"].replace({'m': 1, 'f': 0})"
   ]
  },
  {
   "cell_type": "code",
   "execution_count": 14,
   "metadata": {},
   "outputs": [
    {
     "name": "stdout",
     "output_type": "stream",
     "text": [
      "First 5 rows from the feture 'story'\n"
     ]
    },
    {
     "data": {
      "text/plain": [
       "0    כשחבר הזמין אותי לחול, לא באמת חשבתי שזה יקרה,...\n",
       "1    לפני שהתגייסתי לצבא עשיתי כל מני מיונים ליחידו...\n",
       "2    מאז שהתחילו הלימודים חלומו של כל סטודנט זה הפנ...\n",
       "3    כשהייתי ילד, מטוסים היה הדבר שהכי ריתק אותי. ב...\n",
       "4    ‏הייתי מדריכה בכפר נוער ומתאם הכפר היינו צריכי...\n",
       "Name: story, dtype: object"
      ]
     },
     "execution_count": 14,
     "metadata": {},
     "output_type": "execute_result"
    },
    {
     "name": "stdout",
     "output_type": "stream",
     "text": [
      "\n",
      "First 5 rows from the feture 'gender' whice convert to numeric\n",
      "'1' for male, '0' for female\n"
     ]
    },
    {
     "data": {
      "text/plain": [
       "0    1\n",
       "1    1\n",
       "2    0\n",
       "3    1\n",
       "4    0\n",
       "Name: gender, dtype: int64"
      ]
     },
     "execution_count": 14,
     "metadata": {},
     "output_type": "execute_result"
    }
   ],
   "source": [
    "print(\"First 5 rows from the feture 'story'\")\n",
    "X_train.head(5)\n",
    "print()\n",
    "print(\"First 5 rows from the feture 'gender' whice convert to numeric\\n'1' for male, '0' for female\")\n",
    "y_train.head(5)"
   ]
  },
  {
   "cell_type": "markdown",
   "metadata": {},
   "source": [
    "<font face=\"Cooper Black\" size=7 color='#CDB79E'>Cross Validation</font>    \n"
   ]
  },
  {
   "cell_type": "markdown",
   "metadata": {},
   "source": [
    "<font face=\"Tahoma bolt\" size=3 color='#00000'>Sets the grid search parameters for each classifier based on its name. set defaults Hyperparameters and later i'll change them if it's necessary.</font>    \n"
   ]
  },
  {
   "cell_type": "code",
   "execution_count": 15,
   "metadata": {},
   "outputs": [],
   "source": [
    "models = [\n",
    "    ('Perceptron', Perceptron()),\n",
    "    ('LinearSVC', LinearSVC()),\n",
    "    ('DecisionTreeClassifier', DecisionTreeClassifier()),\n",
    "    ('MultinomialNB', MultinomialNB()),\n",
    "    ('SGDClassifier', SGDClassifier()),\n",
    "    ('KNeighborsClassifier', KNeighborsClassifier())\n",
    "]\n",
    "\n"
   ]
  },
  {
   "cell_type": "markdown",
   "metadata": {},
   "source": [
    "<font face=\"Tahoma bolt\" size=3 color='#00000'>Initial hyperparameters are placed for each model,</font>    \n",
    "<font face=\"Tahoma bolt\" size=3 color='#00000'>Some of them we chose randomly or by reading about them on the </font> <font face=\"Tahoma bolt\" size=3 color='#00000'>Internet, some are default values that the system provides,</font> \n",
    "<font face=\"Tahoma bolt\" size=3 color='#00000'>And there are also those who express trial and error.</font>    \n"
   ]
  },
  {
   "cell_type": "code",
   "execution_count": 16,
   "metadata": {},
   "outputs": [],
   "source": [
    "def set_params():\n",
    "    if name == 'LinearSVC':\n",
    "        parameters = {'tfidf__ngram_range': [(1, 1), (1, 2)], 'tfidf__min_df' : [2, 4, 5],\n",
    "                      'tfidf__max_df': [0.8, 0.9],'model__C': [0.1, 1, 10],\n",
    "                      'model__penalty': ['l1', 'l2']}\n",
    "\n",
    "    elif name == 'Perceptron':\n",
    "        parameters = {'tfidf__ngram_range': [(1, 1), (1, 2)], 'tfidf__min_df' : [2, 4, 5],\n",
    "                      'tfidf__max_df': [0.8, 0.9],'tfidf__sublinear_tf':[True, False],\n",
    "                    'model__alpha': [0.000001, 0.00001, 0.0001], 'model__penalty': ['l2', 'l1']}\n",
    "\n",
    "  \n",
    "    elif name == 'DecisionTreeClassifier':\n",
    "        parameters = {'tfidf__ngram_range': [(1, 1), (1, 2)], 'tfidf__min_df' : [2, 4, 5],\n",
    "                      'tfidf__max_df': [0.8, 0.9], 'model__max_depth': [5, 10, 15],\n",
    "                      'model__min_samples_leaf': [5, 10, 15]}\n",
    "\n",
    "    \n",
    "    elif name == 'MultinomialNB':\n",
    "        parameters = {'tfidf__ngram_range': [(1, 1), (1, 2)], 'tfidf__min_df' : [2, 4, 5],\n",
    "                      'tfidf__max_df': [0.8, 0.9], 'model__alpha': [0.01, 0.1, 1]}\n",
    "\n",
    "   \n",
    "    elif name == 'SGDClassifier':\n",
    "        parameters = {'tfidf__ngram_range': [(1, 1), (1, 2)], 'tfidf__min_df' : [2, 4, 5],\n",
    "                      'tfidf__max_df': [0.8, 0.9], 'model__alpha': [1e-3, 1e-4],\n",
    "                      'model__penalty': ['l1', 'l2']}\n",
    "\n",
    "    elif name == 'KNeighborsClassifier':\n",
    "        parameters = {'tfidf__ngram_range': [(1, 1), (1, 2)], 'tfidf__min_df' : [2, 4, 5], \n",
    "                      'tfidf__max_df': [0.8, 0.9], 'model__n_neighbors': [3, 5, 7],\n",
    "                      'model__metric': ['euclidean', 'manhattan', 'chebyshev'],\n",
    "                      'model__leaf_size': [10, 20, 30]}\n",
    "    return parameters"
   ]
  },
  {
   "cell_type": "markdown",
   "metadata": {},
   "source": [
    "<font face=\"Tahoma bolt\" size=3 color='#00000'>• Now I will intial the pipline for each model. </font>    \n",
    "<font face=\"Tahoma bolt\" size=3 color='#00000'>• GridSearch parameters setting ( using the set_parameters func ). </font>    \n",
    "<font face=\"Tahoma bolt\" size=3 color='#00000'>• Print the best score and the estimator for each model. </font>    \n",
    "<font face=\"Tahoma bolt\" size=3 color='#00000'>• Than I will continue with the best model/s I will found. </font>  \n",
    "\n",
    "<font face=\"Tahoma bolt\" size=3 color='#00000'> Notice : The GridSearch visualization displayed badly in GitHub </font>  \n",
    "<font face=\"Tahoma bolt\" size=3 color='#00000'> If you want to look at them, I recomending to open it in Google Colab </font>  \n",
    "\n",
    "                                 \n"
   ]
  },
  {
   "cell_type": "code",
   "execution_count": 17,
   "metadata": {},
   "outputs": [
    {
     "data": {
      "text/html": [
       "<style>#sk-a8b4c39d-056a-4bc7-b208-79a0050cc617 {color: black;background-color: white;}#sk-a8b4c39d-056a-4bc7-b208-79a0050cc617 pre{padding: 0;}#sk-a8b4c39d-056a-4bc7-b208-79a0050cc617 div.sk-toggleable {background-color: white;}#sk-a8b4c39d-056a-4bc7-b208-79a0050cc617 label.sk-toggleable__label {cursor: pointer;display: block;width: 100%;margin-bottom: 0;padding: 0.3em;box-sizing: border-box;text-align: center;}#sk-a8b4c39d-056a-4bc7-b208-79a0050cc617 label.sk-toggleable__label-arrow:before {content: \"▸\";float: left;margin-right: 0.25em;color: #696969;}#sk-a8b4c39d-056a-4bc7-b208-79a0050cc617 label.sk-toggleable__label-arrow:hover:before {color: black;}#sk-a8b4c39d-056a-4bc7-b208-79a0050cc617 div.sk-estimator:hover label.sk-toggleable__label-arrow:before {color: black;}#sk-a8b4c39d-056a-4bc7-b208-79a0050cc617 div.sk-toggleable__content {max-height: 0;max-width: 0;overflow: hidden;text-align: left;background-color: #f0f8ff;}#sk-a8b4c39d-056a-4bc7-b208-79a0050cc617 div.sk-toggleable__content pre {margin: 0.2em;color: black;border-radius: 0.25em;background-color: #f0f8ff;}#sk-a8b4c39d-056a-4bc7-b208-79a0050cc617 input.sk-toggleable__control:checked~div.sk-toggleable__content {max-height: 200px;max-width: 100%;overflow: auto;}#sk-a8b4c39d-056a-4bc7-b208-79a0050cc617 input.sk-toggleable__control:checked~label.sk-toggleable__label-arrow:before {content: \"▾\";}#sk-a8b4c39d-056a-4bc7-b208-79a0050cc617 div.sk-estimator input.sk-toggleable__control:checked~label.sk-toggleable__label {background-color: #d4ebff;}#sk-a8b4c39d-056a-4bc7-b208-79a0050cc617 div.sk-label input.sk-toggleable__control:checked~label.sk-toggleable__label {background-color: #d4ebff;}#sk-a8b4c39d-056a-4bc7-b208-79a0050cc617 input.sk-hidden--visually {border: 0;clip: rect(1px 1px 1px 1px);clip: rect(1px, 1px, 1px, 1px);height: 1px;margin: -1px;overflow: hidden;padding: 0;position: absolute;width: 1px;}#sk-a8b4c39d-056a-4bc7-b208-79a0050cc617 div.sk-estimator {font-family: monospace;background-color: #f0f8ff;border: 1px dotted black;border-radius: 0.25em;box-sizing: border-box;margin-bottom: 0.5em;}#sk-a8b4c39d-056a-4bc7-b208-79a0050cc617 div.sk-estimator:hover {background-color: #d4ebff;}#sk-a8b4c39d-056a-4bc7-b208-79a0050cc617 div.sk-parallel-item::after {content: \"\";width: 100%;border-bottom: 1px solid gray;flex-grow: 1;}#sk-a8b4c39d-056a-4bc7-b208-79a0050cc617 div.sk-label:hover label.sk-toggleable__label {background-color: #d4ebff;}#sk-a8b4c39d-056a-4bc7-b208-79a0050cc617 div.sk-serial::before {content: \"\";position: absolute;border-left: 1px solid gray;box-sizing: border-box;top: 2em;bottom: 0;left: 50%;}#sk-a8b4c39d-056a-4bc7-b208-79a0050cc617 div.sk-serial {display: flex;flex-direction: column;align-items: center;background-color: white;padding-right: 0.2em;padding-left: 0.2em;}#sk-a8b4c39d-056a-4bc7-b208-79a0050cc617 div.sk-item {z-index: 1;}#sk-a8b4c39d-056a-4bc7-b208-79a0050cc617 div.sk-parallel {display: flex;align-items: stretch;justify-content: center;background-color: white;}#sk-a8b4c39d-056a-4bc7-b208-79a0050cc617 div.sk-parallel::before {content: \"\";position: absolute;border-left: 1px solid gray;box-sizing: border-box;top: 2em;bottom: 0;left: 50%;}#sk-a8b4c39d-056a-4bc7-b208-79a0050cc617 div.sk-parallel-item {display: flex;flex-direction: column;position: relative;background-color: white;}#sk-a8b4c39d-056a-4bc7-b208-79a0050cc617 div.sk-parallel-item:first-child::after {align-self: flex-end;width: 50%;}#sk-a8b4c39d-056a-4bc7-b208-79a0050cc617 div.sk-parallel-item:last-child::after {align-self: flex-start;width: 50%;}#sk-a8b4c39d-056a-4bc7-b208-79a0050cc617 div.sk-parallel-item:only-child::after {width: 0;}#sk-a8b4c39d-056a-4bc7-b208-79a0050cc617 div.sk-dashed-wrapped {border: 1px dashed gray;margin: 0 0.4em 0.5em 0.4em;box-sizing: border-box;padding-bottom: 0.4em;background-color: white;position: relative;}#sk-a8b4c39d-056a-4bc7-b208-79a0050cc617 div.sk-label label {font-family: monospace;font-weight: bold;background-color: white;display: inline-block;line-height: 1.2em;}#sk-a8b4c39d-056a-4bc7-b208-79a0050cc617 div.sk-label-container {position: relative;z-index: 2;text-align: center;}#sk-a8b4c39d-056a-4bc7-b208-79a0050cc617 div.sk-container {/* jupyter's `normalize.less` sets `[hidden] { display: none; }` but bootstrap.min.css set `[hidden] { display: none !important; }` so we also need the `!important` here to be able to override the default hidden behavior on the sphinx rendered scikit-learn.org. See: https://github.com/scikit-learn/scikit-learn/issues/21755 */display: inline-block !important;position: relative;}#sk-a8b4c39d-056a-4bc7-b208-79a0050cc617 div.sk-text-repr-fallback {display: none;}</style><div id=\"sk-a8b4c39d-056a-4bc7-b208-79a0050cc617\" class=\"sk-top-container\"><div class=\"sk-text-repr-fallback\"><pre>GridSearchCV(cv=10,\n",
       "             estimator=Pipeline(steps=[(&#x27;tfidf&#x27;, TfidfVectorizer()),\n",
       "                                       (&#x27;norm&#x27;, Normalizer()),\n",
       "                                       (&#x27;model&#x27;, Perceptron())]),\n",
       "             param_grid={&#x27;model__alpha&#x27;: [1e-06, 1e-05, 0.0001],\n",
       "                         &#x27;model__penalty&#x27;: [&#x27;l2&#x27;, &#x27;l1&#x27;],\n",
       "                         &#x27;tfidf__max_df&#x27;: [0.8, 0.9],\n",
       "                         &#x27;tfidf__min_df&#x27;: [2, 4, 5],\n",
       "                         &#x27;tfidf__ngram_range&#x27;: [(1, 1), (1, 2)],\n",
       "                         &#x27;tfidf__sublinear_tf&#x27;: [True, False]},\n",
       "             scoring=make_scorer(f1_score, average=macro))</pre><b>Please rerun this cell to show the HTML repr or trust the notebook.</b></div><div class=\"sk-container\" hidden><div class=\"sk-item sk-dashed-wrapped\"><div class=\"sk-label-container\"><div class=\"sk-label sk-toggleable\"><input class=\"sk-toggleable__control sk-hidden--visually\" id=\"2087cf8a-f04b-47d3-9bc9-7017fe1be9fb\" type=\"checkbox\" ><label for=\"2087cf8a-f04b-47d3-9bc9-7017fe1be9fb\" class=\"sk-toggleable__label sk-toggleable__label-arrow\">GridSearchCV</label><div class=\"sk-toggleable__content\"><pre>GridSearchCV(cv=10,\n",
       "             estimator=Pipeline(steps=[(&#x27;tfidf&#x27;, TfidfVectorizer()),\n",
       "                                       (&#x27;norm&#x27;, Normalizer()),\n",
       "                                       (&#x27;model&#x27;, Perceptron())]),\n",
       "             param_grid={&#x27;model__alpha&#x27;: [1e-06, 1e-05, 0.0001],\n",
       "                         &#x27;model__penalty&#x27;: [&#x27;l2&#x27;, &#x27;l1&#x27;],\n",
       "                         &#x27;tfidf__max_df&#x27;: [0.8, 0.9],\n",
       "                         &#x27;tfidf__min_df&#x27;: [2, 4, 5],\n",
       "                         &#x27;tfidf__ngram_range&#x27;: [(1, 1), (1, 2)],\n",
       "                         &#x27;tfidf__sublinear_tf&#x27;: [True, False]},\n",
       "             scoring=make_scorer(f1_score, average=macro))</pre></div></div></div><div class=\"sk-parallel\"><div class=\"sk-parallel-item\"><div class=\"sk-item\"><div class=\"sk-serial\"><div class=\"sk-item\"><div class=\"sk-serial\"><div class=\"sk-item\"><div class=\"sk-estimator sk-toggleable\"><input class=\"sk-toggleable__control sk-hidden--visually\" id=\"660d8461-0404-4858-837a-d33fa4203e38\" type=\"checkbox\" ><label for=\"660d8461-0404-4858-837a-d33fa4203e38\" class=\"sk-toggleable__label sk-toggleable__label-arrow\">TfidfVectorizer</label><div class=\"sk-toggleable__content\"><pre>TfidfVectorizer()</pre></div></div></div><div class=\"sk-item\"><div class=\"sk-estimator sk-toggleable\"><input class=\"sk-toggleable__control sk-hidden--visually\" id=\"8122f75f-767f-41a0-873b-a83007f84476\" type=\"checkbox\" ><label for=\"8122f75f-767f-41a0-873b-a83007f84476\" class=\"sk-toggleable__label sk-toggleable__label-arrow\">Normalizer</label><div class=\"sk-toggleable__content\"><pre>Normalizer()</pre></div></div></div><div class=\"sk-item\"><div class=\"sk-estimator sk-toggleable\"><input class=\"sk-toggleable__control sk-hidden--visually\" id=\"90fa7f27-0493-4d25-a202-1b12197d210d\" type=\"checkbox\" ><label for=\"90fa7f27-0493-4d25-a202-1b12197d210d\" class=\"sk-toggleable__label sk-toggleable__label-arrow\">Perceptron</label><div class=\"sk-toggleable__content\"><pre>Perceptron()</pre></div></div></div></div></div></div></div></div></div></div></div></div>"
      ],
      "text/plain": [
       "GridSearchCV(cv=10,\n",
       "             estimator=Pipeline(steps=[('tfidf', TfidfVectorizer()),\n",
       "                                       ('norm', Normalizer()),\n",
       "                                       ('model', Perceptron())]),\n",
       "             param_grid={'model__alpha': [1e-06, 1e-05, 0.0001],\n",
       "                         'model__penalty': ['l2', 'l1'],\n",
       "                         'tfidf__max_df': [0.8, 0.9],\n",
       "                         'tfidf__min_df': [2, 4, 5],\n",
       "                         'tfidf__ngram_range': [(1, 1), (1, 2)],\n",
       "                         'tfidf__sublinear_tf': [True, False]},\n",
       "             scoring=make_scorer(f1_score, average=macro))"
      ]
     },
     "execution_count": 17,
     "metadata": {},
     "output_type": "execute_result"
    },
    {
     "name": "stdout",
     "output_type": "stream",
     "text": [
      "The best score of the model is:  0.726\n",
      "The best estimator of the model is:  Pipeline(steps=[('tfidf',\n",
      "                 TfidfVectorizer(max_df=0.8, min_df=2, ngram_range=(1, 2),\n",
      "                                 sublinear_tf=True)),\n",
      "                ('norm', Normalizer()),\n",
      "                ('model', Perceptron(alpha=1e-06, penalty='l1'))])\n"
     ]
    },
    {
     "data": {
      "text/html": [
       "<style>#sk-b9699036-531a-4175-a114-d92ff81f4dca {color: black;background-color: white;}#sk-b9699036-531a-4175-a114-d92ff81f4dca pre{padding: 0;}#sk-b9699036-531a-4175-a114-d92ff81f4dca div.sk-toggleable {background-color: white;}#sk-b9699036-531a-4175-a114-d92ff81f4dca label.sk-toggleable__label {cursor: pointer;display: block;width: 100%;margin-bottom: 0;padding: 0.3em;box-sizing: border-box;text-align: center;}#sk-b9699036-531a-4175-a114-d92ff81f4dca label.sk-toggleable__label-arrow:before {content: \"▸\";float: left;margin-right: 0.25em;color: #696969;}#sk-b9699036-531a-4175-a114-d92ff81f4dca label.sk-toggleable__label-arrow:hover:before {color: black;}#sk-b9699036-531a-4175-a114-d92ff81f4dca div.sk-estimator:hover label.sk-toggleable__label-arrow:before {color: black;}#sk-b9699036-531a-4175-a114-d92ff81f4dca div.sk-toggleable__content {max-height: 0;max-width: 0;overflow: hidden;text-align: left;background-color: #f0f8ff;}#sk-b9699036-531a-4175-a114-d92ff81f4dca div.sk-toggleable__content pre {margin: 0.2em;color: black;border-radius: 0.25em;background-color: #f0f8ff;}#sk-b9699036-531a-4175-a114-d92ff81f4dca input.sk-toggleable__control:checked~div.sk-toggleable__content {max-height: 200px;max-width: 100%;overflow: auto;}#sk-b9699036-531a-4175-a114-d92ff81f4dca input.sk-toggleable__control:checked~label.sk-toggleable__label-arrow:before {content: \"▾\";}#sk-b9699036-531a-4175-a114-d92ff81f4dca div.sk-estimator input.sk-toggleable__control:checked~label.sk-toggleable__label {background-color: #d4ebff;}#sk-b9699036-531a-4175-a114-d92ff81f4dca div.sk-label input.sk-toggleable__control:checked~label.sk-toggleable__label {background-color: #d4ebff;}#sk-b9699036-531a-4175-a114-d92ff81f4dca input.sk-hidden--visually {border: 0;clip: rect(1px 1px 1px 1px);clip: rect(1px, 1px, 1px, 1px);height: 1px;margin: -1px;overflow: hidden;padding: 0;position: absolute;width: 1px;}#sk-b9699036-531a-4175-a114-d92ff81f4dca div.sk-estimator {font-family: monospace;background-color: #f0f8ff;border: 1px dotted black;border-radius: 0.25em;box-sizing: border-box;margin-bottom: 0.5em;}#sk-b9699036-531a-4175-a114-d92ff81f4dca div.sk-estimator:hover {background-color: #d4ebff;}#sk-b9699036-531a-4175-a114-d92ff81f4dca div.sk-parallel-item::after {content: \"\";width: 100%;border-bottom: 1px solid gray;flex-grow: 1;}#sk-b9699036-531a-4175-a114-d92ff81f4dca div.sk-label:hover label.sk-toggleable__label {background-color: #d4ebff;}#sk-b9699036-531a-4175-a114-d92ff81f4dca div.sk-serial::before {content: \"\";position: absolute;border-left: 1px solid gray;box-sizing: border-box;top: 2em;bottom: 0;left: 50%;}#sk-b9699036-531a-4175-a114-d92ff81f4dca div.sk-serial {display: flex;flex-direction: column;align-items: center;background-color: white;padding-right: 0.2em;padding-left: 0.2em;}#sk-b9699036-531a-4175-a114-d92ff81f4dca div.sk-item {z-index: 1;}#sk-b9699036-531a-4175-a114-d92ff81f4dca div.sk-parallel {display: flex;align-items: stretch;justify-content: center;background-color: white;}#sk-b9699036-531a-4175-a114-d92ff81f4dca div.sk-parallel::before {content: \"\";position: absolute;border-left: 1px solid gray;box-sizing: border-box;top: 2em;bottom: 0;left: 50%;}#sk-b9699036-531a-4175-a114-d92ff81f4dca div.sk-parallel-item {display: flex;flex-direction: column;position: relative;background-color: white;}#sk-b9699036-531a-4175-a114-d92ff81f4dca div.sk-parallel-item:first-child::after {align-self: flex-end;width: 50%;}#sk-b9699036-531a-4175-a114-d92ff81f4dca div.sk-parallel-item:last-child::after {align-self: flex-start;width: 50%;}#sk-b9699036-531a-4175-a114-d92ff81f4dca div.sk-parallel-item:only-child::after {width: 0;}#sk-b9699036-531a-4175-a114-d92ff81f4dca div.sk-dashed-wrapped {border: 1px dashed gray;margin: 0 0.4em 0.5em 0.4em;box-sizing: border-box;padding-bottom: 0.4em;background-color: white;position: relative;}#sk-b9699036-531a-4175-a114-d92ff81f4dca div.sk-label label {font-family: monospace;font-weight: bold;background-color: white;display: inline-block;line-height: 1.2em;}#sk-b9699036-531a-4175-a114-d92ff81f4dca div.sk-label-container {position: relative;z-index: 2;text-align: center;}#sk-b9699036-531a-4175-a114-d92ff81f4dca div.sk-container {/* jupyter's `normalize.less` sets `[hidden] { display: none; }` but bootstrap.min.css set `[hidden] { display: none !important; }` so we also need the `!important` here to be able to override the default hidden behavior on the sphinx rendered scikit-learn.org. See: https://github.com/scikit-learn/scikit-learn/issues/21755 */display: inline-block !important;position: relative;}#sk-b9699036-531a-4175-a114-d92ff81f4dca div.sk-text-repr-fallback {display: none;}</style><div id=\"sk-b9699036-531a-4175-a114-d92ff81f4dca\" class=\"sk-top-container\"><div class=\"sk-text-repr-fallback\"><pre>GridSearchCV(cv=10,\n",
       "             estimator=Pipeline(steps=[(&#x27;tfidf&#x27;, TfidfVectorizer()),\n",
       "                                       (&#x27;norm&#x27;, Normalizer()),\n",
       "                                       (&#x27;model&#x27;, LinearSVC())]),\n",
       "             param_grid={&#x27;model__C&#x27;: [0.1, 1, 10],\n",
       "                         &#x27;model__penalty&#x27;: [&#x27;l1&#x27;, &#x27;l2&#x27;],\n",
       "                         &#x27;tfidf__max_df&#x27;: [0.8, 0.9],\n",
       "                         &#x27;tfidf__min_df&#x27;: [2, 4, 5],\n",
       "                         &#x27;tfidf__ngram_range&#x27;: [(1, 1), (1, 2)]},\n",
       "             scoring=make_scorer(f1_score, average=macro))</pre><b>Please rerun this cell to show the HTML repr or trust the notebook.</b></div><div class=\"sk-container\" hidden><div class=\"sk-item sk-dashed-wrapped\"><div class=\"sk-label-container\"><div class=\"sk-label sk-toggleable\"><input class=\"sk-toggleable__control sk-hidden--visually\" id=\"691a30fb-f5b5-4c3d-9373-b5c88515a2f1\" type=\"checkbox\" ><label for=\"691a30fb-f5b5-4c3d-9373-b5c88515a2f1\" class=\"sk-toggleable__label sk-toggleable__label-arrow\">GridSearchCV</label><div class=\"sk-toggleable__content\"><pre>GridSearchCV(cv=10,\n",
       "             estimator=Pipeline(steps=[(&#x27;tfidf&#x27;, TfidfVectorizer()),\n",
       "                                       (&#x27;norm&#x27;, Normalizer()),\n",
       "                                       (&#x27;model&#x27;, LinearSVC())]),\n",
       "             param_grid={&#x27;model__C&#x27;: [0.1, 1, 10],\n",
       "                         &#x27;model__penalty&#x27;: [&#x27;l1&#x27;, &#x27;l2&#x27;],\n",
       "                         &#x27;tfidf__max_df&#x27;: [0.8, 0.9],\n",
       "                         &#x27;tfidf__min_df&#x27;: [2, 4, 5],\n",
       "                         &#x27;tfidf__ngram_range&#x27;: [(1, 1), (1, 2)]},\n",
       "             scoring=make_scorer(f1_score, average=macro))</pre></div></div></div><div class=\"sk-parallel\"><div class=\"sk-parallel-item\"><div class=\"sk-item\"><div class=\"sk-serial\"><div class=\"sk-item\"><div class=\"sk-serial\"><div class=\"sk-item\"><div class=\"sk-estimator sk-toggleable\"><input class=\"sk-toggleable__control sk-hidden--visually\" id=\"4590fc88-e148-472b-bcd4-5131d546b8ff\" type=\"checkbox\" ><label for=\"4590fc88-e148-472b-bcd4-5131d546b8ff\" class=\"sk-toggleable__label sk-toggleable__label-arrow\">TfidfVectorizer</label><div class=\"sk-toggleable__content\"><pre>TfidfVectorizer()</pre></div></div></div><div class=\"sk-item\"><div class=\"sk-estimator sk-toggleable\"><input class=\"sk-toggleable__control sk-hidden--visually\" id=\"200d2844-d370-4d00-a7ed-bc70d45ec231\" type=\"checkbox\" ><label for=\"200d2844-d370-4d00-a7ed-bc70d45ec231\" class=\"sk-toggleable__label sk-toggleable__label-arrow\">Normalizer</label><div class=\"sk-toggleable__content\"><pre>Normalizer()</pre></div></div></div><div class=\"sk-item\"><div class=\"sk-estimator sk-toggleable\"><input class=\"sk-toggleable__control sk-hidden--visually\" id=\"2fef9248-30f3-4a84-9677-c7bf9a5d5287\" type=\"checkbox\" ><label for=\"2fef9248-30f3-4a84-9677-c7bf9a5d5287\" class=\"sk-toggleable__label sk-toggleable__label-arrow\">LinearSVC</label><div class=\"sk-toggleable__content\"><pre>LinearSVC()</pre></div></div></div></div></div></div></div></div></div></div></div></div>"
      ],
      "text/plain": [
       "GridSearchCV(cv=10,\n",
       "             estimator=Pipeline(steps=[('tfidf', TfidfVectorizer()),\n",
       "                                       ('norm', Normalizer()),\n",
       "                                       ('model', LinearSVC())]),\n",
       "             param_grid={'model__C': [0.1, 1, 10],\n",
       "                         'model__penalty': ['l1', 'l2'],\n",
       "                         'tfidf__max_df': [0.8, 0.9],\n",
       "                         'tfidf__min_df': [2, 4, 5],\n",
       "                         'tfidf__ngram_range': [(1, 1), (1, 2)]},\n",
       "             scoring=make_scorer(f1_score, average=macro))"
      ]
     },
     "execution_count": 17,
     "metadata": {},
     "output_type": "execute_result"
    },
    {
     "name": "stdout",
     "output_type": "stream",
     "text": [
      "The best score of the model is:  0.687\n",
      "The best estimator of the model is:  Pipeline(steps=[('tfidf',\n",
      "                 TfidfVectorizer(max_df=0.9, min_df=5, ngram_range=(1, 2))),\n",
      "                ('norm', Normalizer()), ('model', LinearSVC(C=10))])\n"
     ]
    },
    {
     "data": {
      "text/html": [
       "<style>#sk-4c76e85f-ef20-4bcb-8287-8936ac9fa92c {color: black;background-color: white;}#sk-4c76e85f-ef20-4bcb-8287-8936ac9fa92c pre{padding: 0;}#sk-4c76e85f-ef20-4bcb-8287-8936ac9fa92c div.sk-toggleable {background-color: white;}#sk-4c76e85f-ef20-4bcb-8287-8936ac9fa92c label.sk-toggleable__label {cursor: pointer;display: block;width: 100%;margin-bottom: 0;padding: 0.3em;box-sizing: border-box;text-align: center;}#sk-4c76e85f-ef20-4bcb-8287-8936ac9fa92c label.sk-toggleable__label-arrow:before {content: \"▸\";float: left;margin-right: 0.25em;color: #696969;}#sk-4c76e85f-ef20-4bcb-8287-8936ac9fa92c label.sk-toggleable__label-arrow:hover:before {color: black;}#sk-4c76e85f-ef20-4bcb-8287-8936ac9fa92c div.sk-estimator:hover label.sk-toggleable__label-arrow:before {color: black;}#sk-4c76e85f-ef20-4bcb-8287-8936ac9fa92c div.sk-toggleable__content {max-height: 0;max-width: 0;overflow: hidden;text-align: left;background-color: #f0f8ff;}#sk-4c76e85f-ef20-4bcb-8287-8936ac9fa92c div.sk-toggleable__content pre {margin: 0.2em;color: black;border-radius: 0.25em;background-color: #f0f8ff;}#sk-4c76e85f-ef20-4bcb-8287-8936ac9fa92c input.sk-toggleable__control:checked~div.sk-toggleable__content {max-height: 200px;max-width: 100%;overflow: auto;}#sk-4c76e85f-ef20-4bcb-8287-8936ac9fa92c input.sk-toggleable__control:checked~label.sk-toggleable__label-arrow:before {content: \"▾\";}#sk-4c76e85f-ef20-4bcb-8287-8936ac9fa92c div.sk-estimator input.sk-toggleable__control:checked~label.sk-toggleable__label {background-color: #d4ebff;}#sk-4c76e85f-ef20-4bcb-8287-8936ac9fa92c div.sk-label input.sk-toggleable__control:checked~label.sk-toggleable__label {background-color: #d4ebff;}#sk-4c76e85f-ef20-4bcb-8287-8936ac9fa92c input.sk-hidden--visually {border: 0;clip: rect(1px 1px 1px 1px);clip: rect(1px, 1px, 1px, 1px);height: 1px;margin: -1px;overflow: hidden;padding: 0;position: absolute;width: 1px;}#sk-4c76e85f-ef20-4bcb-8287-8936ac9fa92c div.sk-estimator {font-family: monospace;background-color: #f0f8ff;border: 1px dotted black;border-radius: 0.25em;box-sizing: border-box;margin-bottom: 0.5em;}#sk-4c76e85f-ef20-4bcb-8287-8936ac9fa92c div.sk-estimator:hover {background-color: #d4ebff;}#sk-4c76e85f-ef20-4bcb-8287-8936ac9fa92c div.sk-parallel-item::after {content: \"\";width: 100%;border-bottom: 1px solid gray;flex-grow: 1;}#sk-4c76e85f-ef20-4bcb-8287-8936ac9fa92c div.sk-label:hover label.sk-toggleable__label {background-color: #d4ebff;}#sk-4c76e85f-ef20-4bcb-8287-8936ac9fa92c div.sk-serial::before {content: \"\";position: absolute;border-left: 1px solid gray;box-sizing: border-box;top: 2em;bottom: 0;left: 50%;}#sk-4c76e85f-ef20-4bcb-8287-8936ac9fa92c div.sk-serial {display: flex;flex-direction: column;align-items: center;background-color: white;padding-right: 0.2em;padding-left: 0.2em;}#sk-4c76e85f-ef20-4bcb-8287-8936ac9fa92c div.sk-item {z-index: 1;}#sk-4c76e85f-ef20-4bcb-8287-8936ac9fa92c div.sk-parallel {display: flex;align-items: stretch;justify-content: center;background-color: white;}#sk-4c76e85f-ef20-4bcb-8287-8936ac9fa92c div.sk-parallel::before {content: \"\";position: absolute;border-left: 1px solid gray;box-sizing: border-box;top: 2em;bottom: 0;left: 50%;}#sk-4c76e85f-ef20-4bcb-8287-8936ac9fa92c div.sk-parallel-item {display: flex;flex-direction: column;position: relative;background-color: white;}#sk-4c76e85f-ef20-4bcb-8287-8936ac9fa92c div.sk-parallel-item:first-child::after {align-self: flex-end;width: 50%;}#sk-4c76e85f-ef20-4bcb-8287-8936ac9fa92c div.sk-parallel-item:last-child::after {align-self: flex-start;width: 50%;}#sk-4c76e85f-ef20-4bcb-8287-8936ac9fa92c div.sk-parallel-item:only-child::after {width: 0;}#sk-4c76e85f-ef20-4bcb-8287-8936ac9fa92c div.sk-dashed-wrapped {border: 1px dashed gray;margin: 0 0.4em 0.5em 0.4em;box-sizing: border-box;padding-bottom: 0.4em;background-color: white;position: relative;}#sk-4c76e85f-ef20-4bcb-8287-8936ac9fa92c div.sk-label label {font-family: monospace;font-weight: bold;background-color: white;display: inline-block;line-height: 1.2em;}#sk-4c76e85f-ef20-4bcb-8287-8936ac9fa92c div.sk-label-container {position: relative;z-index: 2;text-align: center;}#sk-4c76e85f-ef20-4bcb-8287-8936ac9fa92c div.sk-container {/* jupyter's `normalize.less` sets `[hidden] { display: none; }` but bootstrap.min.css set `[hidden] { display: none !important; }` so we also need the `!important` here to be able to override the default hidden behavior on the sphinx rendered scikit-learn.org. See: https://github.com/scikit-learn/scikit-learn/issues/21755 */display: inline-block !important;position: relative;}#sk-4c76e85f-ef20-4bcb-8287-8936ac9fa92c div.sk-text-repr-fallback {display: none;}</style><div id=\"sk-4c76e85f-ef20-4bcb-8287-8936ac9fa92c\" class=\"sk-top-container\"><div class=\"sk-text-repr-fallback\"><pre>GridSearchCV(cv=10,\n",
       "             estimator=Pipeline(steps=[(&#x27;tfidf&#x27;, TfidfVectorizer()),\n",
       "                                       (&#x27;norm&#x27;, Normalizer()),\n",
       "                                       (&#x27;model&#x27;, DecisionTreeClassifier())]),\n",
       "             param_grid={&#x27;model__max_depth&#x27;: [5, 10, 15],\n",
       "                         &#x27;model__min_samples_leaf&#x27;: [5, 10, 15],\n",
       "                         &#x27;tfidf__max_df&#x27;: [0.8, 0.9],\n",
       "                         &#x27;tfidf__min_df&#x27;: [2, 4, 5],\n",
       "                         &#x27;tfidf__ngram_range&#x27;: [(1, 1), (1, 2)]},\n",
       "             scoring=make_scorer(f1_score, average=macro))</pre><b>Please rerun this cell to show the HTML repr or trust the notebook.</b></div><div class=\"sk-container\" hidden><div class=\"sk-item sk-dashed-wrapped\"><div class=\"sk-label-container\"><div class=\"sk-label sk-toggleable\"><input class=\"sk-toggleable__control sk-hidden--visually\" id=\"6644f5c0-2951-4ade-91cb-d5958eb8ed69\" type=\"checkbox\" ><label for=\"6644f5c0-2951-4ade-91cb-d5958eb8ed69\" class=\"sk-toggleable__label sk-toggleable__label-arrow\">GridSearchCV</label><div class=\"sk-toggleable__content\"><pre>GridSearchCV(cv=10,\n",
       "             estimator=Pipeline(steps=[(&#x27;tfidf&#x27;, TfidfVectorizer()),\n",
       "                                       (&#x27;norm&#x27;, Normalizer()),\n",
       "                                       (&#x27;model&#x27;, DecisionTreeClassifier())]),\n",
       "             param_grid={&#x27;model__max_depth&#x27;: [5, 10, 15],\n",
       "                         &#x27;model__min_samples_leaf&#x27;: [5, 10, 15],\n",
       "                         &#x27;tfidf__max_df&#x27;: [0.8, 0.9],\n",
       "                         &#x27;tfidf__min_df&#x27;: [2, 4, 5],\n",
       "                         &#x27;tfidf__ngram_range&#x27;: [(1, 1), (1, 2)]},\n",
       "             scoring=make_scorer(f1_score, average=macro))</pre></div></div></div><div class=\"sk-parallel\"><div class=\"sk-parallel-item\"><div class=\"sk-item\"><div class=\"sk-serial\"><div class=\"sk-item\"><div class=\"sk-serial\"><div class=\"sk-item\"><div class=\"sk-estimator sk-toggleable\"><input class=\"sk-toggleable__control sk-hidden--visually\" id=\"6df0d27c-b8cf-4d79-a720-26bafdd3ad81\" type=\"checkbox\" ><label for=\"6df0d27c-b8cf-4d79-a720-26bafdd3ad81\" class=\"sk-toggleable__label sk-toggleable__label-arrow\">TfidfVectorizer</label><div class=\"sk-toggleable__content\"><pre>TfidfVectorizer()</pre></div></div></div><div class=\"sk-item\"><div class=\"sk-estimator sk-toggleable\"><input class=\"sk-toggleable__control sk-hidden--visually\" id=\"81057fc6-9b70-4765-97d7-647f06ac4eaa\" type=\"checkbox\" ><label for=\"81057fc6-9b70-4765-97d7-647f06ac4eaa\" class=\"sk-toggleable__label sk-toggleable__label-arrow\">Normalizer</label><div class=\"sk-toggleable__content\"><pre>Normalizer()</pre></div></div></div><div class=\"sk-item\"><div class=\"sk-estimator sk-toggleable\"><input class=\"sk-toggleable__control sk-hidden--visually\" id=\"68a8127b-9a4b-4da8-a04d-ef6cc87f1d44\" type=\"checkbox\" ><label for=\"68a8127b-9a4b-4da8-a04d-ef6cc87f1d44\" class=\"sk-toggleable__label sk-toggleable__label-arrow\">DecisionTreeClassifier</label><div class=\"sk-toggleable__content\"><pre>DecisionTreeClassifier()</pre></div></div></div></div></div></div></div></div></div></div></div></div>"
      ],
      "text/plain": [
       "GridSearchCV(cv=10,\n",
       "             estimator=Pipeline(steps=[('tfidf', TfidfVectorizer()),\n",
       "                                       ('norm', Normalizer()),\n",
       "                                       ('model', DecisionTreeClassifier())]),\n",
       "             param_grid={'model__max_depth': [5, 10, 15],\n",
       "                         'model__min_samples_leaf': [5, 10, 15],\n",
       "                         'tfidf__max_df': [0.8, 0.9],\n",
       "                         'tfidf__min_df': [2, 4, 5],\n",
       "                         'tfidf__ngram_range': [(1, 1), (1, 2)]},\n",
       "             scoring=make_scorer(f1_score, average=macro))"
      ]
     },
     "execution_count": 17,
     "metadata": {},
     "output_type": "execute_result"
    },
    {
     "name": "stdout",
     "output_type": "stream",
     "text": [
      "The best score of the model is:  0.648\n",
      "The best estimator of the model is:  Pipeline(steps=[('tfidf', TfidfVectorizer(max_df=0.9, min_df=4)),\n",
      "                ('norm', Normalizer()),\n",
      "                ('model',\n",
      "                 DecisionTreeClassifier(max_depth=10, min_samples_leaf=15))])\n"
     ]
    },
    {
     "data": {
      "text/html": [
       "<style>#sk-cc3c4015-56b5-49f5-9bd2-9e3c4c1ecb0a {color: black;background-color: white;}#sk-cc3c4015-56b5-49f5-9bd2-9e3c4c1ecb0a pre{padding: 0;}#sk-cc3c4015-56b5-49f5-9bd2-9e3c4c1ecb0a div.sk-toggleable {background-color: white;}#sk-cc3c4015-56b5-49f5-9bd2-9e3c4c1ecb0a label.sk-toggleable__label {cursor: pointer;display: block;width: 100%;margin-bottom: 0;padding: 0.3em;box-sizing: border-box;text-align: center;}#sk-cc3c4015-56b5-49f5-9bd2-9e3c4c1ecb0a label.sk-toggleable__label-arrow:before {content: \"▸\";float: left;margin-right: 0.25em;color: #696969;}#sk-cc3c4015-56b5-49f5-9bd2-9e3c4c1ecb0a label.sk-toggleable__label-arrow:hover:before {color: black;}#sk-cc3c4015-56b5-49f5-9bd2-9e3c4c1ecb0a div.sk-estimator:hover label.sk-toggleable__label-arrow:before {color: black;}#sk-cc3c4015-56b5-49f5-9bd2-9e3c4c1ecb0a div.sk-toggleable__content {max-height: 0;max-width: 0;overflow: hidden;text-align: left;background-color: #f0f8ff;}#sk-cc3c4015-56b5-49f5-9bd2-9e3c4c1ecb0a div.sk-toggleable__content pre {margin: 0.2em;color: black;border-radius: 0.25em;background-color: #f0f8ff;}#sk-cc3c4015-56b5-49f5-9bd2-9e3c4c1ecb0a input.sk-toggleable__control:checked~div.sk-toggleable__content {max-height: 200px;max-width: 100%;overflow: auto;}#sk-cc3c4015-56b5-49f5-9bd2-9e3c4c1ecb0a input.sk-toggleable__control:checked~label.sk-toggleable__label-arrow:before {content: \"▾\";}#sk-cc3c4015-56b5-49f5-9bd2-9e3c4c1ecb0a div.sk-estimator input.sk-toggleable__control:checked~label.sk-toggleable__label {background-color: #d4ebff;}#sk-cc3c4015-56b5-49f5-9bd2-9e3c4c1ecb0a div.sk-label input.sk-toggleable__control:checked~label.sk-toggleable__label {background-color: #d4ebff;}#sk-cc3c4015-56b5-49f5-9bd2-9e3c4c1ecb0a input.sk-hidden--visually {border: 0;clip: rect(1px 1px 1px 1px);clip: rect(1px, 1px, 1px, 1px);height: 1px;margin: -1px;overflow: hidden;padding: 0;position: absolute;width: 1px;}#sk-cc3c4015-56b5-49f5-9bd2-9e3c4c1ecb0a div.sk-estimator {font-family: monospace;background-color: #f0f8ff;border: 1px dotted black;border-radius: 0.25em;box-sizing: border-box;margin-bottom: 0.5em;}#sk-cc3c4015-56b5-49f5-9bd2-9e3c4c1ecb0a div.sk-estimator:hover {background-color: #d4ebff;}#sk-cc3c4015-56b5-49f5-9bd2-9e3c4c1ecb0a div.sk-parallel-item::after {content: \"\";width: 100%;border-bottom: 1px solid gray;flex-grow: 1;}#sk-cc3c4015-56b5-49f5-9bd2-9e3c4c1ecb0a div.sk-label:hover label.sk-toggleable__label {background-color: #d4ebff;}#sk-cc3c4015-56b5-49f5-9bd2-9e3c4c1ecb0a div.sk-serial::before {content: \"\";position: absolute;border-left: 1px solid gray;box-sizing: border-box;top: 2em;bottom: 0;left: 50%;}#sk-cc3c4015-56b5-49f5-9bd2-9e3c4c1ecb0a div.sk-serial {display: flex;flex-direction: column;align-items: center;background-color: white;padding-right: 0.2em;padding-left: 0.2em;}#sk-cc3c4015-56b5-49f5-9bd2-9e3c4c1ecb0a div.sk-item {z-index: 1;}#sk-cc3c4015-56b5-49f5-9bd2-9e3c4c1ecb0a div.sk-parallel {display: flex;align-items: stretch;justify-content: center;background-color: white;}#sk-cc3c4015-56b5-49f5-9bd2-9e3c4c1ecb0a div.sk-parallel::before {content: \"\";position: absolute;border-left: 1px solid gray;box-sizing: border-box;top: 2em;bottom: 0;left: 50%;}#sk-cc3c4015-56b5-49f5-9bd2-9e3c4c1ecb0a div.sk-parallel-item {display: flex;flex-direction: column;position: relative;background-color: white;}#sk-cc3c4015-56b5-49f5-9bd2-9e3c4c1ecb0a div.sk-parallel-item:first-child::after {align-self: flex-end;width: 50%;}#sk-cc3c4015-56b5-49f5-9bd2-9e3c4c1ecb0a div.sk-parallel-item:last-child::after {align-self: flex-start;width: 50%;}#sk-cc3c4015-56b5-49f5-9bd2-9e3c4c1ecb0a div.sk-parallel-item:only-child::after {width: 0;}#sk-cc3c4015-56b5-49f5-9bd2-9e3c4c1ecb0a div.sk-dashed-wrapped {border: 1px dashed gray;margin: 0 0.4em 0.5em 0.4em;box-sizing: border-box;padding-bottom: 0.4em;background-color: white;position: relative;}#sk-cc3c4015-56b5-49f5-9bd2-9e3c4c1ecb0a div.sk-label label {font-family: monospace;font-weight: bold;background-color: white;display: inline-block;line-height: 1.2em;}#sk-cc3c4015-56b5-49f5-9bd2-9e3c4c1ecb0a div.sk-label-container {position: relative;z-index: 2;text-align: center;}#sk-cc3c4015-56b5-49f5-9bd2-9e3c4c1ecb0a div.sk-container {/* jupyter's `normalize.less` sets `[hidden] { display: none; }` but bootstrap.min.css set `[hidden] { display: none !important; }` so we also need the `!important` here to be able to override the default hidden behavior on the sphinx rendered scikit-learn.org. See: https://github.com/scikit-learn/scikit-learn/issues/21755 */display: inline-block !important;position: relative;}#sk-cc3c4015-56b5-49f5-9bd2-9e3c4c1ecb0a div.sk-text-repr-fallback {display: none;}</style><div id=\"sk-cc3c4015-56b5-49f5-9bd2-9e3c4c1ecb0a\" class=\"sk-top-container\"><div class=\"sk-text-repr-fallback\"><pre>GridSearchCV(cv=10,\n",
       "             estimator=Pipeline(steps=[(&#x27;tfidf&#x27;, TfidfVectorizer()),\n",
       "                                       (&#x27;norm&#x27;, Normalizer()),\n",
       "                                       (&#x27;model&#x27;, MultinomialNB())]),\n",
       "             param_grid={&#x27;model__alpha&#x27;: [0.01, 0.1, 1],\n",
       "                         &#x27;tfidf__max_df&#x27;: [0.8, 0.9],\n",
       "                         &#x27;tfidf__min_df&#x27;: [2, 4, 5],\n",
       "                         &#x27;tfidf__ngram_range&#x27;: [(1, 1), (1, 2)]},\n",
       "             scoring=make_scorer(f1_score, average=macro))</pre><b>Please rerun this cell to show the HTML repr or trust the notebook.</b></div><div class=\"sk-container\" hidden><div class=\"sk-item sk-dashed-wrapped\"><div class=\"sk-label-container\"><div class=\"sk-label sk-toggleable\"><input class=\"sk-toggleable__control sk-hidden--visually\" id=\"a1677601-6b6c-4211-8a7f-a4ba5525cd57\" type=\"checkbox\" ><label for=\"a1677601-6b6c-4211-8a7f-a4ba5525cd57\" class=\"sk-toggleable__label sk-toggleable__label-arrow\">GridSearchCV</label><div class=\"sk-toggleable__content\"><pre>GridSearchCV(cv=10,\n",
       "             estimator=Pipeline(steps=[(&#x27;tfidf&#x27;, TfidfVectorizer()),\n",
       "                                       (&#x27;norm&#x27;, Normalizer()),\n",
       "                                       (&#x27;model&#x27;, MultinomialNB())]),\n",
       "             param_grid={&#x27;model__alpha&#x27;: [0.01, 0.1, 1],\n",
       "                         &#x27;tfidf__max_df&#x27;: [0.8, 0.9],\n",
       "                         &#x27;tfidf__min_df&#x27;: [2, 4, 5],\n",
       "                         &#x27;tfidf__ngram_range&#x27;: [(1, 1), (1, 2)]},\n",
       "             scoring=make_scorer(f1_score, average=macro))</pre></div></div></div><div class=\"sk-parallel\"><div class=\"sk-parallel-item\"><div class=\"sk-item\"><div class=\"sk-serial\"><div class=\"sk-item\"><div class=\"sk-serial\"><div class=\"sk-item\"><div class=\"sk-estimator sk-toggleable\"><input class=\"sk-toggleable__control sk-hidden--visually\" id=\"cca91b89-5e4f-41b5-b085-2ef098d92610\" type=\"checkbox\" ><label for=\"cca91b89-5e4f-41b5-b085-2ef098d92610\" class=\"sk-toggleable__label sk-toggleable__label-arrow\">TfidfVectorizer</label><div class=\"sk-toggleable__content\"><pre>TfidfVectorizer()</pre></div></div></div><div class=\"sk-item\"><div class=\"sk-estimator sk-toggleable\"><input class=\"sk-toggleable__control sk-hidden--visually\" id=\"983ca003-ece9-49ed-9536-574d1c18e4fc\" type=\"checkbox\" ><label for=\"983ca003-ece9-49ed-9536-574d1c18e4fc\" class=\"sk-toggleable__label sk-toggleable__label-arrow\">Normalizer</label><div class=\"sk-toggleable__content\"><pre>Normalizer()</pre></div></div></div><div class=\"sk-item\"><div class=\"sk-estimator sk-toggleable\"><input class=\"sk-toggleable__control sk-hidden--visually\" id=\"84056064-51ce-4e61-bd07-643ce0c5357c\" type=\"checkbox\" ><label for=\"84056064-51ce-4e61-bd07-643ce0c5357c\" class=\"sk-toggleable__label sk-toggleable__label-arrow\">MultinomialNB</label><div class=\"sk-toggleable__content\"><pre>MultinomialNB()</pre></div></div></div></div></div></div></div></div></div></div></div></div>"
      ],
      "text/plain": [
       "GridSearchCV(cv=10,\n",
       "             estimator=Pipeline(steps=[('tfidf', TfidfVectorizer()),\n",
       "                                       ('norm', Normalizer()),\n",
       "                                       ('model', MultinomialNB())]),\n",
       "             param_grid={'model__alpha': [0.01, 0.1, 1],\n",
       "                         'tfidf__max_df': [0.8, 0.9],\n",
       "                         'tfidf__min_df': [2, 4, 5],\n",
       "                         'tfidf__ngram_range': [(1, 1), (1, 2)]},\n",
       "             scoring=make_scorer(f1_score, average=macro))"
      ]
     },
     "execution_count": 17,
     "metadata": {},
     "output_type": "execute_result"
    },
    {
     "name": "stdout",
     "output_type": "stream",
     "text": [
      "The best score of the model is:  0.526\n",
      "The best estimator of the model is:  Pipeline(steps=[('tfidf',\n",
      "                 TfidfVectorizer(max_df=0.8, min_df=5, ngram_range=(1, 2))),\n",
      "                ('norm', Normalizer()), ('model', MultinomialNB(alpha=0.01))])\n"
     ]
    },
    {
     "data": {
      "text/html": [
       "<style>#sk-30498c6a-b0ea-40a3-a1f5-2163238375aa {color: black;background-color: white;}#sk-30498c6a-b0ea-40a3-a1f5-2163238375aa pre{padding: 0;}#sk-30498c6a-b0ea-40a3-a1f5-2163238375aa div.sk-toggleable {background-color: white;}#sk-30498c6a-b0ea-40a3-a1f5-2163238375aa label.sk-toggleable__label {cursor: pointer;display: block;width: 100%;margin-bottom: 0;padding: 0.3em;box-sizing: border-box;text-align: center;}#sk-30498c6a-b0ea-40a3-a1f5-2163238375aa label.sk-toggleable__label-arrow:before {content: \"▸\";float: left;margin-right: 0.25em;color: #696969;}#sk-30498c6a-b0ea-40a3-a1f5-2163238375aa label.sk-toggleable__label-arrow:hover:before {color: black;}#sk-30498c6a-b0ea-40a3-a1f5-2163238375aa div.sk-estimator:hover label.sk-toggleable__label-arrow:before {color: black;}#sk-30498c6a-b0ea-40a3-a1f5-2163238375aa div.sk-toggleable__content {max-height: 0;max-width: 0;overflow: hidden;text-align: left;background-color: #f0f8ff;}#sk-30498c6a-b0ea-40a3-a1f5-2163238375aa div.sk-toggleable__content pre {margin: 0.2em;color: black;border-radius: 0.25em;background-color: #f0f8ff;}#sk-30498c6a-b0ea-40a3-a1f5-2163238375aa input.sk-toggleable__control:checked~div.sk-toggleable__content {max-height: 200px;max-width: 100%;overflow: auto;}#sk-30498c6a-b0ea-40a3-a1f5-2163238375aa input.sk-toggleable__control:checked~label.sk-toggleable__label-arrow:before {content: \"▾\";}#sk-30498c6a-b0ea-40a3-a1f5-2163238375aa div.sk-estimator input.sk-toggleable__control:checked~label.sk-toggleable__label {background-color: #d4ebff;}#sk-30498c6a-b0ea-40a3-a1f5-2163238375aa div.sk-label input.sk-toggleable__control:checked~label.sk-toggleable__label {background-color: #d4ebff;}#sk-30498c6a-b0ea-40a3-a1f5-2163238375aa input.sk-hidden--visually {border: 0;clip: rect(1px 1px 1px 1px);clip: rect(1px, 1px, 1px, 1px);height: 1px;margin: -1px;overflow: hidden;padding: 0;position: absolute;width: 1px;}#sk-30498c6a-b0ea-40a3-a1f5-2163238375aa div.sk-estimator {font-family: monospace;background-color: #f0f8ff;border: 1px dotted black;border-radius: 0.25em;box-sizing: border-box;margin-bottom: 0.5em;}#sk-30498c6a-b0ea-40a3-a1f5-2163238375aa div.sk-estimator:hover {background-color: #d4ebff;}#sk-30498c6a-b0ea-40a3-a1f5-2163238375aa div.sk-parallel-item::after {content: \"\";width: 100%;border-bottom: 1px solid gray;flex-grow: 1;}#sk-30498c6a-b0ea-40a3-a1f5-2163238375aa div.sk-label:hover label.sk-toggleable__label {background-color: #d4ebff;}#sk-30498c6a-b0ea-40a3-a1f5-2163238375aa div.sk-serial::before {content: \"\";position: absolute;border-left: 1px solid gray;box-sizing: border-box;top: 2em;bottom: 0;left: 50%;}#sk-30498c6a-b0ea-40a3-a1f5-2163238375aa div.sk-serial {display: flex;flex-direction: column;align-items: center;background-color: white;padding-right: 0.2em;padding-left: 0.2em;}#sk-30498c6a-b0ea-40a3-a1f5-2163238375aa div.sk-item {z-index: 1;}#sk-30498c6a-b0ea-40a3-a1f5-2163238375aa div.sk-parallel {display: flex;align-items: stretch;justify-content: center;background-color: white;}#sk-30498c6a-b0ea-40a3-a1f5-2163238375aa div.sk-parallel::before {content: \"\";position: absolute;border-left: 1px solid gray;box-sizing: border-box;top: 2em;bottom: 0;left: 50%;}#sk-30498c6a-b0ea-40a3-a1f5-2163238375aa div.sk-parallel-item {display: flex;flex-direction: column;position: relative;background-color: white;}#sk-30498c6a-b0ea-40a3-a1f5-2163238375aa div.sk-parallel-item:first-child::after {align-self: flex-end;width: 50%;}#sk-30498c6a-b0ea-40a3-a1f5-2163238375aa div.sk-parallel-item:last-child::after {align-self: flex-start;width: 50%;}#sk-30498c6a-b0ea-40a3-a1f5-2163238375aa div.sk-parallel-item:only-child::after {width: 0;}#sk-30498c6a-b0ea-40a3-a1f5-2163238375aa div.sk-dashed-wrapped {border: 1px dashed gray;margin: 0 0.4em 0.5em 0.4em;box-sizing: border-box;padding-bottom: 0.4em;background-color: white;position: relative;}#sk-30498c6a-b0ea-40a3-a1f5-2163238375aa div.sk-label label {font-family: monospace;font-weight: bold;background-color: white;display: inline-block;line-height: 1.2em;}#sk-30498c6a-b0ea-40a3-a1f5-2163238375aa div.sk-label-container {position: relative;z-index: 2;text-align: center;}#sk-30498c6a-b0ea-40a3-a1f5-2163238375aa div.sk-container {/* jupyter's `normalize.less` sets `[hidden] { display: none; }` but bootstrap.min.css set `[hidden] { display: none !important; }` so we also need the `!important` here to be able to override the default hidden behavior on the sphinx rendered scikit-learn.org. See: https://github.com/scikit-learn/scikit-learn/issues/21755 */display: inline-block !important;position: relative;}#sk-30498c6a-b0ea-40a3-a1f5-2163238375aa div.sk-text-repr-fallback {display: none;}</style><div id=\"sk-30498c6a-b0ea-40a3-a1f5-2163238375aa\" class=\"sk-top-container\"><div class=\"sk-text-repr-fallback\"><pre>GridSearchCV(cv=10,\n",
       "             estimator=Pipeline(steps=[(&#x27;tfidf&#x27;, TfidfVectorizer()),\n",
       "                                       (&#x27;norm&#x27;, Normalizer()),\n",
       "                                       (&#x27;model&#x27;, SGDClassifier())]),\n",
       "             param_grid={&#x27;model__alpha&#x27;: [0.001, 0.0001],\n",
       "                         &#x27;model__penalty&#x27;: [&#x27;l1&#x27;, &#x27;l2&#x27;],\n",
       "                         &#x27;tfidf__max_df&#x27;: [0.8, 0.9],\n",
       "                         &#x27;tfidf__min_df&#x27;: [2, 4, 5],\n",
       "                         &#x27;tfidf__ngram_range&#x27;: [(1, 1), (1, 2)]},\n",
       "             scoring=make_scorer(f1_score, average=macro))</pre><b>Please rerun this cell to show the HTML repr or trust the notebook.</b></div><div class=\"sk-container\" hidden><div class=\"sk-item sk-dashed-wrapped\"><div class=\"sk-label-container\"><div class=\"sk-label sk-toggleable\"><input class=\"sk-toggleable__control sk-hidden--visually\" id=\"61552c4a-8e35-475d-ad97-2cf2154f1514\" type=\"checkbox\" ><label for=\"61552c4a-8e35-475d-ad97-2cf2154f1514\" class=\"sk-toggleable__label sk-toggleable__label-arrow\">GridSearchCV</label><div class=\"sk-toggleable__content\"><pre>GridSearchCV(cv=10,\n",
       "             estimator=Pipeline(steps=[(&#x27;tfidf&#x27;, TfidfVectorizer()),\n",
       "                                       (&#x27;norm&#x27;, Normalizer()),\n",
       "                                       (&#x27;model&#x27;, SGDClassifier())]),\n",
       "             param_grid={&#x27;model__alpha&#x27;: [0.001, 0.0001],\n",
       "                         &#x27;model__penalty&#x27;: [&#x27;l1&#x27;, &#x27;l2&#x27;],\n",
       "                         &#x27;tfidf__max_df&#x27;: [0.8, 0.9],\n",
       "                         &#x27;tfidf__min_df&#x27;: [2, 4, 5],\n",
       "                         &#x27;tfidf__ngram_range&#x27;: [(1, 1), (1, 2)]},\n",
       "             scoring=make_scorer(f1_score, average=macro))</pre></div></div></div><div class=\"sk-parallel\"><div class=\"sk-parallel-item\"><div class=\"sk-item\"><div class=\"sk-serial\"><div class=\"sk-item\"><div class=\"sk-serial\"><div class=\"sk-item\"><div class=\"sk-estimator sk-toggleable\"><input class=\"sk-toggleable__control sk-hidden--visually\" id=\"a18e9a42-72e0-490a-b19a-8009ed275b8b\" type=\"checkbox\" ><label for=\"a18e9a42-72e0-490a-b19a-8009ed275b8b\" class=\"sk-toggleable__label sk-toggleable__label-arrow\">TfidfVectorizer</label><div class=\"sk-toggleable__content\"><pre>TfidfVectorizer()</pre></div></div></div><div class=\"sk-item\"><div class=\"sk-estimator sk-toggleable\"><input class=\"sk-toggleable__control sk-hidden--visually\" id=\"a86d0d05-9eb2-4487-9af8-ce40f3cf9f09\" type=\"checkbox\" ><label for=\"a86d0d05-9eb2-4487-9af8-ce40f3cf9f09\" class=\"sk-toggleable__label sk-toggleable__label-arrow\">Normalizer</label><div class=\"sk-toggleable__content\"><pre>Normalizer()</pre></div></div></div><div class=\"sk-item\"><div class=\"sk-estimator sk-toggleable\"><input class=\"sk-toggleable__control sk-hidden--visually\" id=\"f8742f9f-bc74-4500-b456-1ee1e3982f1a\" type=\"checkbox\" ><label for=\"f8742f9f-bc74-4500-b456-1ee1e3982f1a\" class=\"sk-toggleable__label sk-toggleable__label-arrow\">SGDClassifier</label><div class=\"sk-toggleable__content\"><pre>SGDClassifier()</pre></div></div></div></div></div></div></div></div></div></div></div></div>"
      ],
      "text/plain": [
       "GridSearchCV(cv=10,\n",
       "             estimator=Pipeline(steps=[('tfidf', TfidfVectorizer()),\n",
       "                                       ('norm', Normalizer()),\n",
       "                                       ('model', SGDClassifier())]),\n",
       "             param_grid={'model__alpha': [0.001, 0.0001],\n",
       "                         'model__penalty': ['l1', 'l2'],\n",
       "                         'tfidf__max_df': [0.8, 0.9],\n",
       "                         'tfidf__min_df': [2, 4, 5],\n",
       "                         'tfidf__ngram_range': [(1, 1), (1, 2)]},\n",
       "             scoring=make_scorer(f1_score, average=macro))"
      ]
     },
     "execution_count": 17,
     "metadata": {},
     "output_type": "execute_result"
    },
    {
     "name": "stdout",
     "output_type": "stream",
     "text": [
      "The best score of the model is:  0.713\n",
      "The best estimator of the model is:  Pipeline(steps=[('tfidf',\n",
      "                 TfidfVectorizer(max_df=0.8, min_df=5, ngram_range=(1, 2))),\n",
      "                ('norm', Normalizer()),\n",
      "                ('model', SGDClassifier(penalty='l1'))])\n"
     ]
    },
    {
     "data": {
      "text/html": [
       "<style>#sk-d875e35e-7dba-4702-a2e0-f6fdedad601b {color: black;background-color: white;}#sk-d875e35e-7dba-4702-a2e0-f6fdedad601b pre{padding: 0;}#sk-d875e35e-7dba-4702-a2e0-f6fdedad601b div.sk-toggleable {background-color: white;}#sk-d875e35e-7dba-4702-a2e0-f6fdedad601b label.sk-toggleable__label {cursor: pointer;display: block;width: 100%;margin-bottom: 0;padding: 0.3em;box-sizing: border-box;text-align: center;}#sk-d875e35e-7dba-4702-a2e0-f6fdedad601b label.sk-toggleable__label-arrow:before {content: \"▸\";float: left;margin-right: 0.25em;color: #696969;}#sk-d875e35e-7dba-4702-a2e0-f6fdedad601b label.sk-toggleable__label-arrow:hover:before {color: black;}#sk-d875e35e-7dba-4702-a2e0-f6fdedad601b div.sk-estimator:hover label.sk-toggleable__label-arrow:before {color: black;}#sk-d875e35e-7dba-4702-a2e0-f6fdedad601b div.sk-toggleable__content {max-height: 0;max-width: 0;overflow: hidden;text-align: left;background-color: #f0f8ff;}#sk-d875e35e-7dba-4702-a2e0-f6fdedad601b div.sk-toggleable__content pre {margin: 0.2em;color: black;border-radius: 0.25em;background-color: #f0f8ff;}#sk-d875e35e-7dba-4702-a2e0-f6fdedad601b input.sk-toggleable__control:checked~div.sk-toggleable__content {max-height: 200px;max-width: 100%;overflow: auto;}#sk-d875e35e-7dba-4702-a2e0-f6fdedad601b input.sk-toggleable__control:checked~label.sk-toggleable__label-arrow:before {content: \"▾\";}#sk-d875e35e-7dba-4702-a2e0-f6fdedad601b div.sk-estimator input.sk-toggleable__control:checked~label.sk-toggleable__label {background-color: #d4ebff;}#sk-d875e35e-7dba-4702-a2e0-f6fdedad601b div.sk-label input.sk-toggleable__control:checked~label.sk-toggleable__label {background-color: #d4ebff;}#sk-d875e35e-7dba-4702-a2e0-f6fdedad601b input.sk-hidden--visually {border: 0;clip: rect(1px 1px 1px 1px);clip: rect(1px, 1px, 1px, 1px);height: 1px;margin: -1px;overflow: hidden;padding: 0;position: absolute;width: 1px;}#sk-d875e35e-7dba-4702-a2e0-f6fdedad601b div.sk-estimator {font-family: monospace;background-color: #f0f8ff;border: 1px dotted black;border-radius: 0.25em;box-sizing: border-box;margin-bottom: 0.5em;}#sk-d875e35e-7dba-4702-a2e0-f6fdedad601b div.sk-estimator:hover {background-color: #d4ebff;}#sk-d875e35e-7dba-4702-a2e0-f6fdedad601b div.sk-parallel-item::after {content: \"\";width: 100%;border-bottom: 1px solid gray;flex-grow: 1;}#sk-d875e35e-7dba-4702-a2e0-f6fdedad601b div.sk-label:hover label.sk-toggleable__label {background-color: #d4ebff;}#sk-d875e35e-7dba-4702-a2e0-f6fdedad601b div.sk-serial::before {content: \"\";position: absolute;border-left: 1px solid gray;box-sizing: border-box;top: 2em;bottom: 0;left: 50%;}#sk-d875e35e-7dba-4702-a2e0-f6fdedad601b div.sk-serial {display: flex;flex-direction: column;align-items: center;background-color: white;padding-right: 0.2em;padding-left: 0.2em;}#sk-d875e35e-7dba-4702-a2e0-f6fdedad601b div.sk-item {z-index: 1;}#sk-d875e35e-7dba-4702-a2e0-f6fdedad601b div.sk-parallel {display: flex;align-items: stretch;justify-content: center;background-color: white;}#sk-d875e35e-7dba-4702-a2e0-f6fdedad601b div.sk-parallel::before {content: \"\";position: absolute;border-left: 1px solid gray;box-sizing: border-box;top: 2em;bottom: 0;left: 50%;}#sk-d875e35e-7dba-4702-a2e0-f6fdedad601b div.sk-parallel-item {display: flex;flex-direction: column;position: relative;background-color: white;}#sk-d875e35e-7dba-4702-a2e0-f6fdedad601b div.sk-parallel-item:first-child::after {align-self: flex-end;width: 50%;}#sk-d875e35e-7dba-4702-a2e0-f6fdedad601b div.sk-parallel-item:last-child::after {align-self: flex-start;width: 50%;}#sk-d875e35e-7dba-4702-a2e0-f6fdedad601b div.sk-parallel-item:only-child::after {width: 0;}#sk-d875e35e-7dba-4702-a2e0-f6fdedad601b div.sk-dashed-wrapped {border: 1px dashed gray;margin: 0 0.4em 0.5em 0.4em;box-sizing: border-box;padding-bottom: 0.4em;background-color: white;position: relative;}#sk-d875e35e-7dba-4702-a2e0-f6fdedad601b div.sk-label label {font-family: monospace;font-weight: bold;background-color: white;display: inline-block;line-height: 1.2em;}#sk-d875e35e-7dba-4702-a2e0-f6fdedad601b div.sk-label-container {position: relative;z-index: 2;text-align: center;}#sk-d875e35e-7dba-4702-a2e0-f6fdedad601b div.sk-container {/* jupyter's `normalize.less` sets `[hidden] { display: none; }` but bootstrap.min.css set `[hidden] { display: none !important; }` so we also need the `!important` here to be able to override the default hidden behavior on the sphinx rendered scikit-learn.org. See: https://github.com/scikit-learn/scikit-learn/issues/21755 */display: inline-block !important;position: relative;}#sk-d875e35e-7dba-4702-a2e0-f6fdedad601b div.sk-text-repr-fallback {display: none;}</style><div id=\"sk-d875e35e-7dba-4702-a2e0-f6fdedad601b\" class=\"sk-top-container\"><div class=\"sk-text-repr-fallback\"><pre>GridSearchCV(cv=10,\n",
       "             estimator=Pipeline(steps=[(&#x27;tfidf&#x27;, TfidfVectorizer()),\n",
       "                                       (&#x27;norm&#x27;, Normalizer()),\n",
       "                                       (&#x27;model&#x27;, KNeighborsClassifier())]),\n",
       "             param_grid={&#x27;model__leaf_size&#x27;: [10, 20, 30],\n",
       "                         &#x27;model__metric&#x27;: [&#x27;euclidean&#x27;, &#x27;manhattan&#x27;,\n",
       "                                           &#x27;chebyshev&#x27;],\n",
       "                         &#x27;model__n_neighbors&#x27;: [3, 5, 7],\n",
       "                         &#x27;tfidf__max_df&#x27;: [0.8, 0.9],\n",
       "                         &#x27;tfidf__min_df&#x27;: [2, 4, 5],\n",
       "                         &#x27;tfidf__ngram_range&#x27;: [(1, 1), (1, 2)]},\n",
       "             scoring=make_scorer(f1_score, average=macro))</pre><b>Please rerun this cell to show the HTML repr or trust the notebook.</b></div><div class=\"sk-container\" hidden><div class=\"sk-item sk-dashed-wrapped\"><div class=\"sk-label-container\"><div class=\"sk-label sk-toggleable\"><input class=\"sk-toggleable__control sk-hidden--visually\" id=\"2fa9c714-04e4-4f2b-941e-ce53bacf38ba\" type=\"checkbox\" ><label for=\"2fa9c714-04e4-4f2b-941e-ce53bacf38ba\" class=\"sk-toggleable__label sk-toggleable__label-arrow\">GridSearchCV</label><div class=\"sk-toggleable__content\"><pre>GridSearchCV(cv=10,\n",
       "             estimator=Pipeline(steps=[(&#x27;tfidf&#x27;, TfidfVectorizer()),\n",
       "                                       (&#x27;norm&#x27;, Normalizer()),\n",
       "                                       (&#x27;model&#x27;, KNeighborsClassifier())]),\n",
       "             param_grid={&#x27;model__leaf_size&#x27;: [10, 20, 30],\n",
       "                         &#x27;model__metric&#x27;: [&#x27;euclidean&#x27;, &#x27;manhattan&#x27;,\n",
       "                                           &#x27;chebyshev&#x27;],\n",
       "                         &#x27;model__n_neighbors&#x27;: [3, 5, 7],\n",
       "                         &#x27;tfidf__max_df&#x27;: [0.8, 0.9],\n",
       "                         &#x27;tfidf__min_df&#x27;: [2, 4, 5],\n",
       "                         &#x27;tfidf__ngram_range&#x27;: [(1, 1), (1, 2)]},\n",
       "             scoring=make_scorer(f1_score, average=macro))</pre></div></div></div><div class=\"sk-parallel\"><div class=\"sk-parallel-item\"><div class=\"sk-item\"><div class=\"sk-serial\"><div class=\"sk-item\"><div class=\"sk-serial\"><div class=\"sk-item\"><div class=\"sk-estimator sk-toggleable\"><input class=\"sk-toggleable__control sk-hidden--visually\" id=\"8204ba8e-be03-4c95-be4b-65c12bc9fd01\" type=\"checkbox\" ><label for=\"8204ba8e-be03-4c95-be4b-65c12bc9fd01\" class=\"sk-toggleable__label sk-toggleable__label-arrow\">TfidfVectorizer</label><div class=\"sk-toggleable__content\"><pre>TfidfVectorizer()</pre></div></div></div><div class=\"sk-item\"><div class=\"sk-estimator sk-toggleable\"><input class=\"sk-toggleable__control sk-hidden--visually\" id=\"e547e98b-710f-4cc7-8641-7ca35f551d44\" type=\"checkbox\" ><label for=\"e547e98b-710f-4cc7-8641-7ca35f551d44\" class=\"sk-toggleable__label sk-toggleable__label-arrow\">Normalizer</label><div class=\"sk-toggleable__content\"><pre>Normalizer()</pre></div></div></div><div class=\"sk-item\"><div class=\"sk-estimator sk-toggleable\"><input class=\"sk-toggleable__control sk-hidden--visually\" id=\"ca700ad4-5a31-423f-963f-a07a48d03186\" type=\"checkbox\" ><label for=\"ca700ad4-5a31-423f-963f-a07a48d03186\" class=\"sk-toggleable__label sk-toggleable__label-arrow\">KNeighborsClassifier</label><div class=\"sk-toggleable__content\"><pre>KNeighborsClassifier()</pre></div></div></div></div></div></div></div></div></div></div></div></div>"
      ],
      "text/plain": [
       "GridSearchCV(cv=10,\n",
       "             estimator=Pipeline(steps=[('tfidf', TfidfVectorizer()),\n",
       "                                       ('norm', Normalizer()),\n",
       "                                       ('model', KNeighborsClassifier())]),\n",
       "             param_grid={'model__leaf_size': [10, 20, 30],\n",
       "                         'model__metric': ['euclidean', 'manhattan',\n",
       "                                           'chebyshev'],\n",
       "                         'model__n_neighbors': [3, 5, 7],\n",
       "                         'tfidf__max_df': [0.8, 0.9],\n",
       "                         'tfidf__min_df': [2, 4, 5],\n",
       "                         'tfidf__ngram_range': [(1, 1), (1, 2)]},\n",
       "             scoring=make_scorer(f1_score, average=macro))"
      ]
     },
     "execution_count": 17,
     "metadata": {},
     "output_type": "execute_result"
    },
    {
     "name": "stdout",
     "output_type": "stream",
     "text": [
      "The best score of the model is:  0.613\n",
      "The best estimator of the model is:  Pipeline(steps=[('tfidf',\n",
      "                 TfidfVectorizer(max_df=0.9, min_df=2, ngram_range=(1, 2))),\n",
      "                ('norm', Normalizer()),\n",
      "                ('model',\n",
      "                 KNeighborsClassifier(leaf_size=10, metric='euclidean'))])\n"
     ]
    }
   ],
   "source": [
    "for name, model in models:\n",
    "    pipeline = Pipeline([\n",
    "        ('tfidf', TfidfVectorizer()),\n",
    "        ('norm', preprocessing.Normalizer()),\n",
    "        ('model', model)\n",
    "    ])\n",
    "\n",
    "    params = set_params()\n",
    "     \n",
    "    set_config(display='diagram')      \n",
    "                                         \n",
    "                      \n",
    "    grid = GridSearchCV(pipeline, params, scoring=make_scorer(f1_score, average='macro'), cv=10)\n",
    "    grid.fit(X_train, y_train)\n",
    "\n",
    "    print(\"The best score of the model is: \", round(grid.best_score_, 3))\n",
    "    print(\"The best estimator of the model is: \", grid.best_estimator_)"
   ]
  },
  {
   "cell_type": "code",
   "execution_count": null,
   "metadata": {},
   "outputs": [],
   "source": []
  },
  {
   "cell_type": "markdown",
   "metadata": {},
   "source": [
    "### Save output to csv (optional)\n",
    "After you're done save your output to the 'classification_results.csv' csv file.<br/>\n",
    "We assume that the dataframe with your results contain the following columns:\n",
    "* column 1 (left column): 'test_example_id'  - the same id associated to each of the test stories to be predicted.\n",
    "* column 2 (right column): 'predicted_category' - the predicted gender value for each of the associated story. \n",
    "\n",
    "Assuming your predicted values are in the `df_predicted` dataframe, you should save you're results as following:"
   ]
  },
  {
   "cell_type": "code",
   "execution_count": null,
   "metadata": {},
   "outputs": [],
   "source": [
    "df_predicted.to_csv('classification_results.csv',index=False)"
   ]
  }
 ],
 "metadata": {
  "celltoolbar": "Create Assignment",
  "kernelspec": {
   "display_name": "Python 3 (ipykernel)",
   "language": "python",
   "name": "python3"
  },
  "language_info": {
   "codemirror_mode": {
    "name": "ipython",
    "version": 3
   },
   "file_extension": ".py",
   "mimetype": "text/x-python",
   "name": "python",
   "nbconvert_exporter": "python",
   "pygments_lexer": "ipython3",
   "version": "3.9.12"
  }
 },
 "nbformat": 4,
 "nbformat_minor": 4
}
