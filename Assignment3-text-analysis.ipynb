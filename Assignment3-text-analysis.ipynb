{
 "cells": [
  {
   "attachments": {},
   "cell_type": "markdown",
   "metadata": {},
   "source": [
    "# Assignment 3 - Text Analysis\n",
    "An explanation this assignment could be found in the .pdf explanation document"
   ]
  },
  {
   "attachments": {},
   "cell_type": "markdown",
   "metadata": {},
   "source": [
    "\n",
    "## Materials to review for this assignment\n",
    "<h4>From Moodle:</h4> \n",
    "<h5><u>Review the notebooks regarding the following python topics</u>:</h5>\n",
    "<div class=\"alert alert-info\">\n",
    "&#x2714; <b>Working with strings</b> (tutorial notebook)<br/>\n",
    "&#x2714; <b>Text Analysis</b> (tutorial notebook)<br/>\n",
    "&#x2714; <b>Hebrew text analysis tools (tokenizer, wordnet)</b> (moodle example)<br/>\n",
    "&#x2714; <b>(brief review) All previous notebooks</b><br/>\n",
    "</div> \n",
    "<h5><u>Review the presentations regarding the following topics</u>:</h5>\n",
    "<div class=\"alert alert-info\">\n",
    "&#x2714; <b>Text Analysis</b> (lecture presentation)<br/>\n",
    "&#x2714; <b>(brief review) All other presentations</b><br/>\n",
    "</div>"
   ]
  },
  {
   "attachments": {},
   "cell_type": "markdown",
   "metadata": {},
   "source": [
    "## Personal Details:"
   ]
  },
  {
   "cell_type": "code",
   "execution_count": 1,
   "metadata": {},
   "outputs": [
    {
     "name": "stdout",
     "output_type": "stream",
     "text": [
      "Details Student 1: 315998971, Roy Shlomo Chen\n",
      "Details Student 2: 318911161, Omer Sruia\n"
     ]
    }
   ],
   "source": [
    "# Details Student 1: 315998971, Roy Shlomo Chen\n",
    "\n",
    "# Details Student 2: 318911161, Omer Sruia\n",
    "print(\"Details Student 1: 315998971, Roy Shlomo Chen\\nDetails Student 2: 318911161, Omer Sruia\")\n",
    "print(omer)\n",
    "print(omer)"
   ]
  },
  {
   "attachments": {},
   "cell_type": "markdown",
   "metadata": {},
   "source": [
    "## Preceding Step - import modules (packages)\n",
    "This step is necessary in order to use external modules (packages). <br/>"
   ]
  },
  {
   "cell_type": "code",
   "execution_count": 29,
   "metadata": {},
   "outputs": [],
   "source": [
    "# --------------------------------------\n",
    "import pandas as pd\n",
    "import numpy as np\n",
    "# --------------------------------------\n",
    "\n",
    "\n",
    "# --------------------------------------\n",
    "# ------------- visualizations:\n",
    "import seaborn as sns\n",
    "import matplotlib.pyplot as plt\n",
    "from matplotlib.colors import ListedColormap\n",
    "# --------------------------------------\n",
    "\n",
    "\n",
    "# ---------------------------------------\n",
    "import sklearn\n",
    "from sklearn import preprocessing, metrics, pipeline, model_selection, feature_extraction \n",
    "from sklearn import naive_bayes, linear_model, svm, neural_network, neighbors, tree\n",
    "from sklearn import decomposition, cluster\n",
    "\n",
    "from sklearn.model_selection import train_test_split, cross_val_score, GridSearchCV \n",
    "from sklearn.pipeline import Pipeline\n",
    "from sklearn.metrics import accuracy_score, confusion_matrix, make_scorer\n",
    "from sklearn.metrics import precision_score, recall_score, f1_score\n",
    "from sklearn.metrics import mean_squared_error, r2_score, silhouette_score\n",
    "from sklearn.preprocessing import MinMaxScaler, StandardScaler, LabelEncoder\n",
    "\n",
    "from sklearn.svm import LinearSVC\n",
    "from sklearn.neural_network import MLPClassifier\n",
    "from sklearn.linear_model import Perceptron, SGDClassifier\n",
    "from sklearn.decomposition import PCA\n",
    "from sklearn.cluster import KMeans\n",
    "from sklearn.naive_bayes import MultinomialNB, GaussianNB\n",
    "from sklearn.neighbors import KNeighborsClassifier\n",
    "from sklearn.tree import DecisionTreeClassifier\n",
    "# ---------------------------------------\n",
    "\n",
    "\n",
    "# ----------------- output and visualizations: \n",
    "import warnings\n",
    "from sklearn import set_config\n",
    "from sklearn.exceptions import ConvergenceWarning\n",
    "warnings.simplefilter(\"ignore\")\n",
    "warnings.simplefilter(action='ignore', category=FutureWarning)\n",
    "warnings.simplefilter(\"ignore\", category=ConvergenceWarning)\n",
    "# show several prints in one cell. This will allow us to condence every trick in one cell.\n",
    "from IPython.core.interactiveshell import InteractiveShell\n",
    "InteractiveShell.ast_node_interactivity = \"all\"\n",
    "%matplotlib inline\n",
    "pd.pandas.set_option('display.max_columns', None)\n",
    "pd.set_option('display.float_format', lambda x: '%.3f' % x)\n",
    "# ---------------------------------------"
   ]
  },
  {
   "attachments": {},
   "cell_type": "markdown",
   "metadata": {},
   "source": [
    "### Text analysis and String manipulation imports:"
   ]
  },
  {
   "cell_type": "code",
   "execution_count": 3,
   "metadata": {},
   "outputs": [],
   "source": [
    "# --------------------------------------\n",
    "# --------- Text analysis and Hebrew text analysis imports:\n",
    "# vectorizers:\n",
    "from sklearn.feature_extraction import text\n",
    "from sklearn.feature_extraction.text import CountVectorizer, TfidfVectorizer\n",
    "\n",
    "# regular expressions:\n",
    "import re\n",
    "# --------------------------------------"
   ]
  },
  {
   "attachments": {},
   "cell_type": "markdown",
   "metadata": {},
   "source": [
    "### (optional) Hebrew text analysis - WordNet (for Hebrew)\n",
    "Note: the WordNet is not a must"
   ]
  },
  {
   "attachments": {},
   "cell_type": "markdown",
   "metadata": {},
   "source": [
    "#### (optional) Only if you didn't install Wordnet (for Hebrew) use:"
   ]
  },
  {
   "cell_type": "code",
   "execution_count": 4,
   "metadata": {},
   "outputs": [],
   "source": [
    "# word net installation:\n",
    "\n",
    "# unmark if you want to use and need to install\n",
    "# !pip install wn\n",
    "# !python -m wn download omw-he:1.4"
   ]
  },
  {
   "cell_type": "code",
   "execution_count": 5,
   "metadata": {},
   "outputs": [],
   "source": [
    "# word net import:\n",
    "\n",
    "# unmark if you want to use:\n",
    "# import wn"
   ]
  },
  {
   "attachments": {},
   "cell_type": "markdown",
   "metadata": {},
   "source": [
    "### (optional) Hebrew text analysis - hebrew_tokenizer (Tokenizer for Hebrew)\n",
    "Note: the hebrew_tokenizer is not a must"
   ]
  },
  {
   "attachments": {},
   "cell_type": "markdown",
   "metadata": {},
   "source": [
    "#### (optional) Only if you didn't install hebrew_tokenizer use:"
   ]
  },
  {
   "cell_type": "code",
   "execution_count": 6,
   "metadata": {},
   "outputs": [],
   "source": [
    "# Hebrew tokenizer installation:\n",
    "\n",
    "# unmark if you want to use and need to install:\n",
    "# !pip install hebrew_tokenizer"
   ]
  },
  {
   "cell_type": "code",
   "execution_count": 7,
   "metadata": {},
   "outputs": [
    {
     "name": "stdout",
     "output_type": "stream",
     "text": [
      "C:\\Users\\roych\\OneDrive\\שולחן העבודה\\Text Analysis\\assignment3-text_analysis\n"
     ]
    }
   ],
   "source": [
    "# Hebrew tokenizer import:\n",
    "\n",
    "# unmark if you want to use:\n",
    "import hebrew_tokenizer as ht"
   ]
  },
  {
   "attachments": {},
   "cell_type": "markdown",
   "metadata": {},
   "source": [
    "### Reading input files\n",
    "Reading input files for train annotated corpus (raw text data) corpus and for the test corpus"
   ]
  },
  {
   "cell_type": "code",
   "execution_count": 8,
   "metadata": {},
   "outputs": [],
   "source": [
    "train_filename = 'annotated_corpus_for_train.csv'\n",
    "test_filename  = 'corpus_for_test.csv'\n",
    "df_train = pd.read_csv(train_filename, index_col=None, encoding='utf-8')\n",
    "df_test  = pd.read_csv(test_filename, index_col=None, encoding='utf-8')"
   ]
  },
  {
   "cell_type": "code",
   "execution_count": 9,
   "metadata": {},
   "outputs": [
    {
     "data": {
      "text/html": [
       "<div>\n",
       "<style scoped>\n",
       "    .dataframe tbody tr th:only-of-type {\n",
       "        vertical-align: middle;\n",
       "    }\n",
       "\n",
       "    .dataframe tbody tr th {\n",
       "        vertical-align: top;\n",
       "    }\n",
       "\n",
       "    .dataframe thead th {\n",
       "        text-align: right;\n",
       "    }\n",
       "</style>\n",
       "<table border=\"1\" class=\"dataframe\">\n",
       "  <thead>\n",
       "    <tr style=\"text-align: right;\">\n",
       "      <th></th>\n",
       "      <th>story</th>\n",
       "      <th>gender</th>\n",
       "    </tr>\n",
       "  </thead>\n",
       "  <tbody>\n",
       "    <tr>\n",
       "      <th>0</th>\n",
       "      <td>כשחבר הזמין אותי לחול, לא באמת חשבתי שזה יקרה,...</td>\n",
       "      <td>m</td>\n",
       "    </tr>\n",
       "    <tr>\n",
       "      <th>1</th>\n",
       "      <td>לפני שהתגייסתי לצבא עשיתי כל מני מיונים ליחידו...</td>\n",
       "      <td>m</td>\n",
       "    </tr>\n",
       "    <tr>\n",
       "      <th>2</th>\n",
       "      <td>מאז שהתחילו הלימודים חלומו של כל סטודנט זה הפנ...</td>\n",
       "      <td>f</td>\n",
       "    </tr>\n",
       "    <tr>\n",
       "      <th>3</th>\n",
       "      <td>כשהייתי ילד, מטוסים היה הדבר שהכי ריתק אותי. ב...</td>\n",
       "      <td>m</td>\n",
       "    </tr>\n",
       "    <tr>\n",
       "      <th>4</th>\n",
       "      <td>‏הייתי מדריכה בכפר נוער ומתאם הכפר היינו צריכי...</td>\n",
       "      <td>f</td>\n",
       "    </tr>\n",
       "    <tr>\n",
       "      <th>5</th>\n",
       "      <td>לפני כ3 חודשים טסתי לרומא למשך שבוע. טסתי במטו...</td>\n",
       "      <td>f</td>\n",
       "    </tr>\n",
       "    <tr>\n",
       "      <th>6</th>\n",
       "      <td>אני כבר שנתיים נשוי והשנה אני ואישתי סוף סוף י...</td>\n",
       "      <td>m</td>\n",
       "    </tr>\n",
       "    <tr>\n",
       "      <th>7</th>\n",
       "      <td>השנה התחלנו שיפוץ בדירה שלנו בתל אביב. הדירה ה...</td>\n",
       "      <td>f</td>\n",
       "    </tr>\n",
       "  </tbody>\n",
       "</table>\n",
       "</div>"
      ],
      "text/plain": [
       "                                               story gender\n",
       "0  כשחבר הזמין אותי לחול, לא באמת חשבתי שזה יקרה,...      m\n",
       "1  לפני שהתגייסתי לצבא עשיתי כל מני מיונים ליחידו...      m\n",
       "2  מאז שהתחילו הלימודים חלומו של כל סטודנט זה הפנ...      f\n",
       "3  כשהייתי ילד, מטוסים היה הדבר שהכי ריתק אותי. ב...      m\n",
       "4  ‏הייתי מדריכה בכפר נוער ומתאם הכפר היינו צריכי...      f\n",
       "5  לפני כ3 חודשים טסתי לרומא למשך שבוע. טסתי במטו...      f\n",
       "6  אני כבר שנתיים נשוי והשנה אני ואישתי סוף סוף י...      m\n",
       "7  השנה התחלנו שיפוץ בדירה שלנו בתל אביב. הדירה ה...      f"
      ]
     },
     "execution_count": 9,
     "metadata": {},
     "output_type": "execute_result"
    },
    {
     "data": {
      "text/plain": [
       "(753, 2)"
      ]
     },
     "execution_count": 9,
     "metadata": {},
     "output_type": "execute_result"
    }
   ],
   "source": [
    "df_train.head(8)\n",
    "df_train.shape"
   ]
  },
  {
   "cell_type": "code",
   "execution_count": 10,
   "metadata": {},
   "outputs": [
    {
     "data": {
      "text/html": [
       "<div>\n",
       "<style scoped>\n",
       "    .dataframe tbody tr th:only-of-type {\n",
       "        vertical-align: middle;\n",
       "    }\n",
       "\n",
       "    .dataframe tbody tr th {\n",
       "        vertical-align: top;\n",
       "    }\n",
       "\n",
       "    .dataframe thead th {\n",
       "        text-align: right;\n",
       "    }\n",
       "</style>\n",
       "<table border=\"1\" class=\"dataframe\">\n",
       "  <thead>\n",
       "    <tr style=\"text-align: right;\">\n",
       "      <th></th>\n",
       "      <th>test_example_id</th>\n",
       "      <th>story</th>\n",
       "    </tr>\n",
       "  </thead>\n",
       "  <tbody>\n",
       "    <tr>\n",
       "      <th>0</th>\n",
       "      <td>0</td>\n",
       "      <td>כל קיץ אני והמשפחה נוסעים לארצות הברית לוס אנג...</td>\n",
       "    </tr>\n",
       "    <tr>\n",
       "      <th>1</th>\n",
       "      <td>1</td>\n",
       "      <td>הגעתי לשירות המדינה אחרי שנתיים כפעיל בתנועת \"...</td>\n",
       "    </tr>\n",
       "    <tr>\n",
       "      <th>2</th>\n",
       "      <td>2</td>\n",
       "      <td>אחת האהבות הגדולות שלי אלו הכלבים שלי ושל אישת...</td>\n",
       "    </tr>\n",
       "  </tbody>\n",
       "</table>\n",
       "</div>"
      ],
      "text/plain": [
       "   test_example_id                                              story\n",
       "0                0  כל קיץ אני והמשפחה נוסעים לארצות הברית לוס אנג...\n",
       "1                1  הגעתי לשירות המדינה אחרי שנתיים כפעיל בתנועת \"...\n",
       "2                2  אחת האהבות הגדולות שלי אלו הכלבים שלי ושל אישת..."
      ]
     },
     "execution_count": 10,
     "metadata": {},
     "output_type": "execute_result"
    },
    {
     "data": {
      "text/plain": [
       "(323, 2)"
      ]
     },
     "execution_count": 10,
     "metadata": {},
     "output_type": "execute_result"
    }
   ],
   "source": [
    "df_test.head(3)\n",
    "df_test.shape"
   ]
  },
  {
   "attachments": {},
   "cell_type": "markdown",
   "metadata": {},
   "source": [
    "### Your implementation:\n",
    "Write your code solution in the following code-cells"
   ]
  },
  {
   "attachments": {},
   "cell_type": "markdown",
   "metadata": {},
   "source": [
    "<font face=\"Cooper Black\" size=7 color='#CDB79E'>Pre-processing</font>    \n"
   ]
  },
  {
   "cell_type": "code",
   "execution_count": 12,
   "metadata": {},
   "outputs": [],
   "source": [
    "# Data cleansing function is for delete unnecessery numeric,punctioation and extra spaces tabs. \n",
    "# def dataCleansing(data):\n",
    "    \n",
    "#    data = re.sub(r'\\d+', '', data)      \n",
    "#    data = re.sub(r'\\s+', ' ', data)   \n",
    "#    data = re.sub(r'[^\\w\\s]', '', data)    \n",
    "#    data = data.strip()                  \n",
    "#    return data\n",
    "\n",
    "\n"
   ]
  },
  {
   "attachments": {},
   "cell_type": "markdown",
   "metadata": {},
   "source": [
    "<font face=\"Tahoma bolt\" size=3 color='#00000'>This function takes Hebrew text as input, tokenizes it, </font>    \n",
    "<font face=\"Tahoma bolt\" size=3 color='#00000'>and extracts Hebrew tokens, creating a list of those tokens for further use. </font>    \n",
    "<font face=\"Tahoma bolt\" size=3 color='#00000'>delete unnecessery numeric,punctioation and extra spaces tabs. </font>    \n"
   ]
  },
  {
   "cell_type": "code",
   "execution_count": 13,
   "metadata": {},
   "outputs": [],
   "source": [
    "def tokenized(hebText):\n",
    "    token = ht.tokenize(hebText)\n",
    "    tok_list = list(filter(lambda x: (x[0] == 'HEBREW'),token))\n",
    "    tok_list = [tuple[1] for tuple in tok_list]\n",
    "    tok_list\n",
    "    return tok_list\n",
    "\n"
   ]
  },
  {
   "attachments": {},
   "cell_type": "markdown",
   "metadata": {},
   "source": [
    "<font face=\"Tahoma bolt\" size=3 color='#00000'>Divide the train seperate frames , 'story' and the 'gender' ( so it will be the target ) </font>    \n",
    "<font face=\"Tahoma bolt\" size=3 color='#00000'>The target feture 'gender' will change from categorial type to numeric.  </font>    \n"
   ]
  },
  {
   "cell_type": "code",
   "execution_count": 14,
   "metadata": {},
   "outputs": [],
   "source": [
    "X_train = df_train[\"story\"]\n",
    "y_train = df_train[\"gender\"].replace({'m': 1, 'f': 0})"
   ]
  },
  {
   "cell_type": "code",
   "execution_count": 15,
   "metadata": {},
   "outputs": [
    {
     "name": "stdout",
     "output_type": "stream",
     "text": [
      "First 5 rows from the feture 'story'\n"
     ]
    },
    {
     "data": {
      "text/plain": [
       "0    כשחבר הזמין אותי לחול, לא באמת חשבתי שזה יקרה,...\n",
       "1    לפני שהתגייסתי לצבא עשיתי כל מני מיונים ליחידו...\n",
       "2    מאז שהתחילו הלימודים חלומו של כל סטודנט זה הפנ...\n",
       "3    כשהייתי ילד, מטוסים היה הדבר שהכי ריתק אותי. ב...\n",
       "4    ‏הייתי מדריכה בכפר נוער ומתאם הכפר היינו צריכי...\n",
       "Name: story, dtype: object"
      ]
     },
     "execution_count": 15,
     "metadata": {},
     "output_type": "execute_result"
    },
    {
     "name": "stdout",
     "output_type": "stream",
     "text": [
      "\n",
      "First 5 rows from the feture 'gender' whice convert to numeric\n",
      "'1' for male, '0' for female\n"
     ]
    },
    {
     "data": {
      "text/plain": [
       "0    1\n",
       "1    1\n",
       "2    0\n",
       "3    1\n",
       "4    0\n",
       "Name: gender, dtype: int64"
      ]
     },
     "execution_count": 15,
     "metadata": {},
     "output_type": "execute_result"
    }
   ],
   "source": [
    "print(\"First 5 rows from the feture 'story'\")\n",
    "X_train.head(5)\n",
    "print()\n",
    "print(\"First 5 rows from the feture 'gender' whice convert to numeric\\n'1' for male, '0' for female\")\n",
    "y_train.head(5)"
   ]
  },
  {
   "attachments": {},
   "cell_type": "markdown",
   "metadata": {},
   "source": [
    "<font face=\"Cooper Black\" size=7 color='#CDB79E'>Cross Validation</font>    \n"
   ]
  },
  {
   "attachments": {},
   "cell_type": "markdown",
   "metadata": {},
   "source": [
    "<font face=\"Tahoma bolt\" size=3 color='#00000'>Sets the grid search parameters for each classifier based on its name. set defaults Hyperparameters and later i'll change them if it's necessary.</font>    \n"
   ]
  },
  {
   "cell_type": "code",
   "execution_count": 19,
   "metadata": {},
   "outputs": [],
   "source": [
    "# Creating models list to use them later with cross validation and grid search, so\n",
    "# we can find the best model/s to keep evaluate them.\n",
    "from sklearn.ensemble import RandomForestClassifier\n",
    "from xgboost import XGBClassifier\n",
    "\n",
    "\n",
    "models = [\n",
    "    ('Perceptron', Perceptron()),\n",
    "    ('LinearSVC', LinearSVC()),\n",
    "    ('DecisionTreeClassifier', DecisionTreeClassifier()),\n",
    "    ('MultinomialNB', MultinomialNB()),\n",
    "    ('SGDClassifier', SGDClassifier()),\n",
    "    ('KNeighborsClassifier', KNeighborsClassifier()),\n",
    "    ('MLPClassifier', MLPClassifier()),\n",
    "    ('RandomForestClassifier', RandomForestClassifier()),\n",
    "    ('XGBClassifier', XGBClassifier())\n",
    "]\n",
    "\n"
   ]
  },
  {
   "attachments": {},
   "cell_type": "markdown",
   "metadata": {},
   "source": [
    "<font face=\"Tahoma bolt\" size=3 color='#00000'>Initial hyperparameters are placed for each model,</font>    \n",
    "<font face=\"Tahoma bolt\" size=3 color='#00000'>Some of them we chose randomly or by reading about them on the </font> <font face=\"Tahoma bolt\" size=3 color='#00000'>Internet, some are default values that the system provides,</font> \n",
    "<font face=\"Tahoma bolt\" size=3 color='#00000'>And there are also those who express trial and error.</font>    \n"
   ]
  },
  {
   "cell_type": "code",
   "execution_count": 38,
   "metadata": {},
   "outputs": [],
   "source": [
    "def set_params():\n",
    "    if name == 'LinearSVC':\n",
    "        parameters = {'tfidf__ngram_range': [(1, 1), (1, 2)], 'tfidf__min_df' : [2, 4, 5],\n",
    "                      'tfidf__max_df': [0.8, 0.9],'model__C': [0.1, 1, 10],\n",
    "                      'model__penalty': ['l1', 'l2']}\n",
    "\n",
    "    elif name == 'Perceptron':\n",
    "        parameters = {'tfidf__ngram_range': [(1, 1), (1, 2)], 'tfidf__min_df' : [2, 4, 5],\n",
    "                      'tfidf__max_df': [0.8, 0.9],'tfidf__sublinear_tf':[True, False],\n",
    "                    'model__alpha': [0.000001, 0.00001, 0.0001], 'model__penalty': ['l2', 'l1']}\n",
    "\n",
    "  \n",
    "    elif name == 'DecisionTreeClassifier':\n",
    "        parameters = {'tfidf__ngram_range': [(1, 1), (1, 2)], 'tfidf__min_df' : [2, 4, 5],\n",
    "                      'tfidf__max_df': [0.8, 0.9], 'model__max_depth': [5, 10, 15],\n",
    "                      'model__min_samples_leaf': [5, 10, 15]}\n",
    "\n",
    "    \n",
    "    elif name == 'MultinomialNB':\n",
    "        parameters = {'tfidf__ngram_range': [(1, 1), (1, 2)], 'tfidf__min_df' : [2, 4, 5],\n",
    "                      'tfidf__max_df': [0.8, 0.9], 'model__alpha': [0.01, 0.1, 1]}\n",
    "\n",
    "   \n",
    "    elif name == 'SGDClassifier':\n",
    "        parameters = {'tfidf__ngram_range': [(1, 1), (1, 2)], 'tfidf__min_df' : [2, 4, 5],\n",
    "                      'tfidf__max_df': [0.8, 0.9], 'model__alpha': [1e-3, 1e-4],\n",
    "                      'model__penalty': ['l1', 'l2']}\n",
    "\n",
    "    elif name == 'KNeighborsClassifier':\n",
    "        parameters = {'tfidf__ngram_range': [(1, 1), (1, 2)], 'tfidf__min_df' : [2, 4, 5], \n",
    "                      'tfidf__max_df': [0.8, 0.9], 'model__n_neighbors': [3, 5, 7],\n",
    "                      'model__metric': ['euclidean', 'manhattan', 'chebyshev'],\n",
    "                      'model__leaf_size': [10, 20, 30]}\n",
    "        \n",
    "    elif name == 'MLPClassifier':\n",
    "        parameters = {'tfidf__ngram_range': [(1, 1), (1, 2)],\n",
    "                      'tfidf__min_df': [1, 2, 3], \n",
    "                      'tfidf__max_df': [0.7, 0.8, 0.9],\n",
    "                      'model__hidden_layer_sizes': [(50, 50), (100, 100), (50, 100, 50)],\n",
    "                      'model__activation': ['logistic', 'relu'],\n",
    "                      'model__alpha': [0.0001, 0.001, 0.01]}\n",
    "        \n",
    "    elif name == 'RandomForestClassifier':\n",
    "        parameters = {'tfidf__ngram_range': [(1, 1), (1, 2)],\n",
    "                      'tfidf__min_df': [1, 2, 3], \n",
    "                      'tfidf__max_df': [0.7, 0.8, 0.9],\n",
    "                      'model__n_estimators': [100, 150, 200],\n",
    "                      'model__max_depth': [None, 10, 20, 30],\n",
    "                      'model__min_samples_split': [2, 5, 10],\n",
    "                      'model__min_samples_leaf': [1, 2, 4]}\n",
    "\n",
    "        \n",
    "    elif name == 'XGBClassifier':\n",
    "        parameters = {'tfidf__ngram_range': [(1, 1), (1, 2)],\n",
    "                      'tfidf__min_df': [1, 2, 3], \n",
    "                      'tfidf__max_df': [0.7, 0.8, 0.9],\n",
    "                      'model__n_estimators': [100, 150, 200],\n",
    "                      'model__max_depth': [3, 5, 7],\n",
    "                      'model__learning_rate': [0.01, 0.1, 0.2],\n",
    "                      'model__subsample': [0.8, 0.9, 1.0]}\n",
    "\n",
    "\n",
    "    return parameters"
   ]
  },
  {
   "attachments": {},
   "cell_type": "markdown",
   "metadata": {},
   "source": [
    "<font face=\"Tahoma bolt\" size=3 color='#00000'>• Now I will intial the pipline for each model. </font>    \n",
    "<font face=\"Tahoma bolt\" size=3 color='#00000'>• GridSearch parameters setting ( using the set_parameters func ). </font>    \n",
    "<font face=\"Tahoma bolt\" size=3 color='#00000'>• Print the best score and the estimator for each model. </font>    \n",
    "<font face=\"Tahoma bolt\" size=3 color='#00000'>• Than I will continue with the best model/s I will found. </font>  \n",
    "\n",
    "<font face=\"Tahoma bolt\" size=3 color='#00000'> Notice : The GridSearch visualization displayed badly in GitHub </font>  \n",
    "<font face=\"Tahoma bolt\" size=3 color='#00000'> If you want to look at them, I recomending to open it in Google Colab </font>  \n",
    "\n",
    "                                 \n"
   ]
  },
  {
   "cell_type": "code",
   "execution_count": null,
   "metadata": {},
   "outputs": [
    {
     "data": {
      "text/html": [
       "<style>#sk-0d6ad72e-4d62-4ae7-b660-f1229083a8a1 {color: black;background-color: white;}#sk-0d6ad72e-4d62-4ae7-b660-f1229083a8a1 pre{padding: 0;}#sk-0d6ad72e-4d62-4ae7-b660-f1229083a8a1 div.sk-toggleable {background-color: white;}#sk-0d6ad72e-4d62-4ae7-b660-f1229083a8a1 label.sk-toggleable__label {cursor: pointer;display: block;width: 100%;margin-bottom: 0;padding: 0.3em;box-sizing: border-box;text-align: center;}#sk-0d6ad72e-4d62-4ae7-b660-f1229083a8a1 label.sk-toggleable__label-arrow:before {content: \"▸\";float: left;margin-right: 0.25em;color: #696969;}#sk-0d6ad72e-4d62-4ae7-b660-f1229083a8a1 label.sk-toggleable__label-arrow:hover:before {color: black;}#sk-0d6ad72e-4d62-4ae7-b660-f1229083a8a1 div.sk-estimator:hover label.sk-toggleable__label-arrow:before {color: black;}#sk-0d6ad72e-4d62-4ae7-b660-f1229083a8a1 div.sk-toggleable__content {max-height: 0;max-width: 0;overflow: hidden;text-align: left;background-color: #f0f8ff;}#sk-0d6ad72e-4d62-4ae7-b660-f1229083a8a1 div.sk-toggleable__content pre {margin: 0.2em;color: black;border-radius: 0.25em;background-color: #f0f8ff;}#sk-0d6ad72e-4d62-4ae7-b660-f1229083a8a1 input.sk-toggleable__control:checked~div.sk-toggleable__content {max-height: 200px;max-width: 100%;overflow: auto;}#sk-0d6ad72e-4d62-4ae7-b660-f1229083a8a1 input.sk-toggleable__control:checked~label.sk-toggleable__label-arrow:before {content: \"▾\";}#sk-0d6ad72e-4d62-4ae7-b660-f1229083a8a1 div.sk-estimator input.sk-toggleable__control:checked~label.sk-toggleable__label {background-color: #d4ebff;}#sk-0d6ad72e-4d62-4ae7-b660-f1229083a8a1 div.sk-label input.sk-toggleable__control:checked~label.sk-toggleable__label {background-color: #d4ebff;}#sk-0d6ad72e-4d62-4ae7-b660-f1229083a8a1 input.sk-hidden--visually {border: 0;clip: rect(1px 1px 1px 1px);clip: rect(1px, 1px, 1px, 1px);height: 1px;margin: -1px;overflow: hidden;padding: 0;position: absolute;width: 1px;}#sk-0d6ad72e-4d62-4ae7-b660-f1229083a8a1 div.sk-estimator {font-family: monospace;background-color: #f0f8ff;border: 1px dotted black;border-radius: 0.25em;box-sizing: border-box;margin-bottom: 0.5em;}#sk-0d6ad72e-4d62-4ae7-b660-f1229083a8a1 div.sk-estimator:hover {background-color: #d4ebff;}#sk-0d6ad72e-4d62-4ae7-b660-f1229083a8a1 div.sk-parallel-item::after {content: \"\";width: 100%;border-bottom: 1px solid gray;flex-grow: 1;}#sk-0d6ad72e-4d62-4ae7-b660-f1229083a8a1 div.sk-label:hover label.sk-toggleable__label {background-color: #d4ebff;}#sk-0d6ad72e-4d62-4ae7-b660-f1229083a8a1 div.sk-serial::before {content: \"\";position: absolute;border-left: 1px solid gray;box-sizing: border-box;top: 2em;bottom: 0;left: 50%;}#sk-0d6ad72e-4d62-4ae7-b660-f1229083a8a1 div.sk-serial {display: flex;flex-direction: column;align-items: center;background-color: white;padding-right: 0.2em;padding-left: 0.2em;}#sk-0d6ad72e-4d62-4ae7-b660-f1229083a8a1 div.sk-item {z-index: 1;}#sk-0d6ad72e-4d62-4ae7-b660-f1229083a8a1 div.sk-parallel {display: flex;align-items: stretch;justify-content: center;background-color: white;}#sk-0d6ad72e-4d62-4ae7-b660-f1229083a8a1 div.sk-parallel::before {content: \"\";position: absolute;border-left: 1px solid gray;box-sizing: border-box;top: 2em;bottom: 0;left: 50%;}#sk-0d6ad72e-4d62-4ae7-b660-f1229083a8a1 div.sk-parallel-item {display: flex;flex-direction: column;position: relative;background-color: white;}#sk-0d6ad72e-4d62-4ae7-b660-f1229083a8a1 div.sk-parallel-item:first-child::after {align-self: flex-end;width: 50%;}#sk-0d6ad72e-4d62-4ae7-b660-f1229083a8a1 div.sk-parallel-item:last-child::after {align-self: flex-start;width: 50%;}#sk-0d6ad72e-4d62-4ae7-b660-f1229083a8a1 div.sk-parallel-item:only-child::after {width: 0;}#sk-0d6ad72e-4d62-4ae7-b660-f1229083a8a1 div.sk-dashed-wrapped {border: 1px dashed gray;margin: 0 0.4em 0.5em 0.4em;box-sizing: border-box;padding-bottom: 0.4em;background-color: white;position: relative;}#sk-0d6ad72e-4d62-4ae7-b660-f1229083a8a1 div.sk-label label {font-family: monospace;font-weight: bold;background-color: white;display: inline-block;line-height: 1.2em;}#sk-0d6ad72e-4d62-4ae7-b660-f1229083a8a1 div.sk-label-container {position: relative;z-index: 2;text-align: center;}#sk-0d6ad72e-4d62-4ae7-b660-f1229083a8a1 div.sk-container {/* jupyter's `normalize.less` sets `[hidden] { display: none; }` but bootstrap.min.css set `[hidden] { display: none !important; }` so we also need the `!important` here to be able to override the default hidden behavior on the sphinx rendered scikit-learn.org. See: https://github.com/scikit-learn/scikit-learn/issues/21755 */display: inline-block !important;position: relative;}#sk-0d6ad72e-4d62-4ae7-b660-f1229083a8a1 div.sk-text-repr-fallback {display: none;}</style><div id=\"sk-0d6ad72e-4d62-4ae7-b660-f1229083a8a1\" class=\"sk-top-container\"><div class=\"sk-text-repr-fallback\"><pre>GridSearchCV(cv=10,\n",
       "             estimator=Pipeline(steps=[(&#x27;tfidf&#x27;, TfidfVectorizer()),\n",
       "                                       (&#x27;norm&#x27;, Normalizer()),\n",
       "                                       (&#x27;model&#x27;, Perceptron())]),\n",
       "             param_grid={&#x27;model__alpha&#x27;: [1e-06, 1e-05, 0.0001],\n",
       "                         &#x27;model__penalty&#x27;: [&#x27;l2&#x27;, &#x27;l1&#x27;],\n",
       "                         &#x27;tfidf__max_df&#x27;: [0.8, 0.9],\n",
       "                         &#x27;tfidf__min_df&#x27;: [2, 4, 5],\n",
       "                         &#x27;tfidf__ngram_range&#x27;: [(1, 1), (1, 2)],\n",
       "                         &#x27;tfidf__sublinear_tf&#x27;: [True, False]},\n",
       "             scoring=make_scorer(f1_score, average=macro))</pre><b>Please rerun this cell to show the HTML repr or trust the notebook.</b></div><div class=\"sk-container\" hidden><div class=\"sk-item sk-dashed-wrapped\"><div class=\"sk-label-container\"><div class=\"sk-label sk-toggleable\"><input class=\"sk-toggleable__control sk-hidden--visually\" id=\"6cdb1bff-25a0-44a5-ad11-55139ca308ad\" type=\"checkbox\" ><label for=\"6cdb1bff-25a0-44a5-ad11-55139ca308ad\" class=\"sk-toggleable__label sk-toggleable__label-arrow\">GridSearchCV</label><div class=\"sk-toggleable__content\"><pre>GridSearchCV(cv=10,\n",
       "             estimator=Pipeline(steps=[(&#x27;tfidf&#x27;, TfidfVectorizer()),\n",
       "                                       (&#x27;norm&#x27;, Normalizer()),\n",
       "                                       (&#x27;model&#x27;, Perceptron())]),\n",
       "             param_grid={&#x27;model__alpha&#x27;: [1e-06, 1e-05, 0.0001],\n",
       "                         &#x27;model__penalty&#x27;: [&#x27;l2&#x27;, &#x27;l1&#x27;],\n",
       "                         &#x27;tfidf__max_df&#x27;: [0.8, 0.9],\n",
       "                         &#x27;tfidf__min_df&#x27;: [2, 4, 5],\n",
       "                         &#x27;tfidf__ngram_range&#x27;: [(1, 1), (1, 2)],\n",
       "                         &#x27;tfidf__sublinear_tf&#x27;: [True, False]},\n",
       "             scoring=make_scorer(f1_score, average=macro))</pre></div></div></div><div class=\"sk-parallel\"><div class=\"sk-parallel-item\"><div class=\"sk-item\"><div class=\"sk-serial\"><div class=\"sk-item\"><div class=\"sk-serial\"><div class=\"sk-item\"><div class=\"sk-estimator sk-toggleable\"><input class=\"sk-toggleable__control sk-hidden--visually\" id=\"a16bf899-74f1-4a46-9f0f-dae0b9dad359\" type=\"checkbox\" ><label for=\"a16bf899-74f1-4a46-9f0f-dae0b9dad359\" class=\"sk-toggleable__label sk-toggleable__label-arrow\">TfidfVectorizer</label><div class=\"sk-toggleable__content\"><pre>TfidfVectorizer()</pre></div></div></div><div class=\"sk-item\"><div class=\"sk-estimator sk-toggleable\"><input class=\"sk-toggleable__control sk-hidden--visually\" id=\"3c366e01-fafb-4e0c-a794-329506d8d352\" type=\"checkbox\" ><label for=\"3c366e01-fafb-4e0c-a794-329506d8d352\" class=\"sk-toggleable__label sk-toggleable__label-arrow\">Normalizer</label><div class=\"sk-toggleable__content\"><pre>Normalizer()</pre></div></div></div><div class=\"sk-item\"><div class=\"sk-estimator sk-toggleable\"><input class=\"sk-toggleable__control sk-hidden--visually\" id=\"4da13b18-8c69-4c18-9124-17e7295d8b7d\" type=\"checkbox\" ><label for=\"4da13b18-8c69-4c18-9124-17e7295d8b7d\" class=\"sk-toggleable__label sk-toggleable__label-arrow\">Perceptron</label><div class=\"sk-toggleable__content\"><pre>Perceptron()</pre></div></div></div></div></div></div></div></div></div></div></div></div>"
      ],
      "text/plain": [
       "GridSearchCV(cv=10,\n",
       "             estimator=Pipeline(steps=[('tfidf', TfidfVectorizer()),\n",
       "                                       ('norm', Normalizer()),\n",
       "                                       ('model', Perceptron())]),\n",
       "             param_grid={'model__alpha': [1e-06, 1e-05, 0.0001],\n",
       "                         'model__penalty': ['l2', 'l1'],\n",
       "                         'tfidf__max_df': [0.8, 0.9],\n",
       "                         'tfidf__min_df': [2, 4, 5],\n",
       "                         'tfidf__ngram_range': [(1, 1), (1, 2)],\n",
       "                         'tfidf__sublinear_tf': [True, False]},\n",
       "             scoring=make_scorer(f1_score, average=macro))"
      ]
     },
     "execution_count": 39,
     "metadata": {},
     "output_type": "execute_result"
    },
    {
     "name": "stdout",
     "output_type": "stream",
     "text": [
      "The best score of the model is:  0.726\n",
      "The best estimator of the model is:  Pipeline(steps=[('tfidf',\n",
      "                 TfidfVectorizer(max_df=0.8, min_df=2, ngram_range=(1, 2),\n",
      "                                 sublinear_tf=True)),\n",
      "                ('norm', Normalizer()),\n",
      "                ('model', Perceptron(alpha=1e-06, penalty='l1'))])\n"
     ]
    },
    {
     "data": {
      "text/html": [
       "<style>#sk-9887cb92-1d79-470c-9572-ed53aa74c3fa {color: black;background-color: white;}#sk-9887cb92-1d79-470c-9572-ed53aa74c3fa pre{padding: 0;}#sk-9887cb92-1d79-470c-9572-ed53aa74c3fa div.sk-toggleable {background-color: white;}#sk-9887cb92-1d79-470c-9572-ed53aa74c3fa label.sk-toggleable__label {cursor: pointer;display: block;width: 100%;margin-bottom: 0;padding: 0.3em;box-sizing: border-box;text-align: center;}#sk-9887cb92-1d79-470c-9572-ed53aa74c3fa label.sk-toggleable__label-arrow:before {content: \"▸\";float: left;margin-right: 0.25em;color: #696969;}#sk-9887cb92-1d79-470c-9572-ed53aa74c3fa label.sk-toggleable__label-arrow:hover:before {color: black;}#sk-9887cb92-1d79-470c-9572-ed53aa74c3fa div.sk-estimator:hover label.sk-toggleable__label-arrow:before {color: black;}#sk-9887cb92-1d79-470c-9572-ed53aa74c3fa div.sk-toggleable__content {max-height: 0;max-width: 0;overflow: hidden;text-align: left;background-color: #f0f8ff;}#sk-9887cb92-1d79-470c-9572-ed53aa74c3fa div.sk-toggleable__content pre {margin: 0.2em;color: black;border-radius: 0.25em;background-color: #f0f8ff;}#sk-9887cb92-1d79-470c-9572-ed53aa74c3fa input.sk-toggleable__control:checked~div.sk-toggleable__content {max-height: 200px;max-width: 100%;overflow: auto;}#sk-9887cb92-1d79-470c-9572-ed53aa74c3fa input.sk-toggleable__control:checked~label.sk-toggleable__label-arrow:before {content: \"▾\";}#sk-9887cb92-1d79-470c-9572-ed53aa74c3fa div.sk-estimator input.sk-toggleable__control:checked~label.sk-toggleable__label {background-color: #d4ebff;}#sk-9887cb92-1d79-470c-9572-ed53aa74c3fa div.sk-label input.sk-toggleable__control:checked~label.sk-toggleable__label {background-color: #d4ebff;}#sk-9887cb92-1d79-470c-9572-ed53aa74c3fa input.sk-hidden--visually {border: 0;clip: rect(1px 1px 1px 1px);clip: rect(1px, 1px, 1px, 1px);height: 1px;margin: -1px;overflow: hidden;padding: 0;position: absolute;width: 1px;}#sk-9887cb92-1d79-470c-9572-ed53aa74c3fa div.sk-estimator {font-family: monospace;background-color: #f0f8ff;border: 1px dotted black;border-radius: 0.25em;box-sizing: border-box;margin-bottom: 0.5em;}#sk-9887cb92-1d79-470c-9572-ed53aa74c3fa div.sk-estimator:hover {background-color: #d4ebff;}#sk-9887cb92-1d79-470c-9572-ed53aa74c3fa div.sk-parallel-item::after {content: \"\";width: 100%;border-bottom: 1px solid gray;flex-grow: 1;}#sk-9887cb92-1d79-470c-9572-ed53aa74c3fa div.sk-label:hover label.sk-toggleable__label {background-color: #d4ebff;}#sk-9887cb92-1d79-470c-9572-ed53aa74c3fa div.sk-serial::before {content: \"\";position: absolute;border-left: 1px solid gray;box-sizing: border-box;top: 2em;bottom: 0;left: 50%;}#sk-9887cb92-1d79-470c-9572-ed53aa74c3fa div.sk-serial {display: flex;flex-direction: column;align-items: center;background-color: white;padding-right: 0.2em;padding-left: 0.2em;}#sk-9887cb92-1d79-470c-9572-ed53aa74c3fa div.sk-item {z-index: 1;}#sk-9887cb92-1d79-470c-9572-ed53aa74c3fa div.sk-parallel {display: flex;align-items: stretch;justify-content: center;background-color: white;}#sk-9887cb92-1d79-470c-9572-ed53aa74c3fa div.sk-parallel::before {content: \"\";position: absolute;border-left: 1px solid gray;box-sizing: border-box;top: 2em;bottom: 0;left: 50%;}#sk-9887cb92-1d79-470c-9572-ed53aa74c3fa div.sk-parallel-item {display: flex;flex-direction: column;position: relative;background-color: white;}#sk-9887cb92-1d79-470c-9572-ed53aa74c3fa div.sk-parallel-item:first-child::after {align-self: flex-end;width: 50%;}#sk-9887cb92-1d79-470c-9572-ed53aa74c3fa div.sk-parallel-item:last-child::after {align-self: flex-start;width: 50%;}#sk-9887cb92-1d79-470c-9572-ed53aa74c3fa div.sk-parallel-item:only-child::after {width: 0;}#sk-9887cb92-1d79-470c-9572-ed53aa74c3fa div.sk-dashed-wrapped {border: 1px dashed gray;margin: 0 0.4em 0.5em 0.4em;box-sizing: border-box;padding-bottom: 0.4em;background-color: white;position: relative;}#sk-9887cb92-1d79-470c-9572-ed53aa74c3fa div.sk-label label {font-family: monospace;font-weight: bold;background-color: white;display: inline-block;line-height: 1.2em;}#sk-9887cb92-1d79-470c-9572-ed53aa74c3fa div.sk-label-container {position: relative;z-index: 2;text-align: center;}#sk-9887cb92-1d79-470c-9572-ed53aa74c3fa div.sk-container {/* jupyter's `normalize.less` sets `[hidden] { display: none; }` but bootstrap.min.css set `[hidden] { display: none !important; }` so we also need the `!important` here to be able to override the default hidden behavior on the sphinx rendered scikit-learn.org. See: https://github.com/scikit-learn/scikit-learn/issues/21755 */display: inline-block !important;position: relative;}#sk-9887cb92-1d79-470c-9572-ed53aa74c3fa div.sk-text-repr-fallback {display: none;}</style><div id=\"sk-9887cb92-1d79-470c-9572-ed53aa74c3fa\" class=\"sk-top-container\"><div class=\"sk-text-repr-fallback\"><pre>GridSearchCV(cv=10,\n",
       "             estimator=Pipeline(steps=[(&#x27;tfidf&#x27;, TfidfVectorizer()),\n",
       "                                       (&#x27;norm&#x27;, Normalizer()),\n",
       "                                       (&#x27;model&#x27;, LinearSVC())]),\n",
       "             param_grid={&#x27;model__C&#x27;: [0.1, 1, 10],\n",
       "                         &#x27;model__penalty&#x27;: [&#x27;l1&#x27;, &#x27;l2&#x27;],\n",
       "                         &#x27;tfidf__max_df&#x27;: [0.8, 0.9],\n",
       "                         &#x27;tfidf__min_df&#x27;: [2, 4, 5],\n",
       "                         &#x27;tfidf__ngram_range&#x27;: [(1, 1), (1, 2)]},\n",
       "             scoring=make_scorer(f1_score, average=macro))</pre><b>Please rerun this cell to show the HTML repr or trust the notebook.</b></div><div class=\"sk-container\" hidden><div class=\"sk-item sk-dashed-wrapped\"><div class=\"sk-label-container\"><div class=\"sk-label sk-toggleable\"><input class=\"sk-toggleable__control sk-hidden--visually\" id=\"1d399fdd-476f-4249-8087-2f7684b3277b\" type=\"checkbox\" ><label for=\"1d399fdd-476f-4249-8087-2f7684b3277b\" class=\"sk-toggleable__label sk-toggleable__label-arrow\">GridSearchCV</label><div class=\"sk-toggleable__content\"><pre>GridSearchCV(cv=10,\n",
       "             estimator=Pipeline(steps=[(&#x27;tfidf&#x27;, TfidfVectorizer()),\n",
       "                                       (&#x27;norm&#x27;, Normalizer()),\n",
       "                                       (&#x27;model&#x27;, LinearSVC())]),\n",
       "             param_grid={&#x27;model__C&#x27;: [0.1, 1, 10],\n",
       "                         &#x27;model__penalty&#x27;: [&#x27;l1&#x27;, &#x27;l2&#x27;],\n",
       "                         &#x27;tfidf__max_df&#x27;: [0.8, 0.9],\n",
       "                         &#x27;tfidf__min_df&#x27;: [2, 4, 5],\n",
       "                         &#x27;tfidf__ngram_range&#x27;: [(1, 1), (1, 2)]},\n",
       "             scoring=make_scorer(f1_score, average=macro))</pre></div></div></div><div class=\"sk-parallel\"><div class=\"sk-parallel-item\"><div class=\"sk-item\"><div class=\"sk-serial\"><div class=\"sk-item\"><div class=\"sk-serial\"><div class=\"sk-item\"><div class=\"sk-estimator sk-toggleable\"><input class=\"sk-toggleable__control sk-hidden--visually\" id=\"a40249f7-94c8-4274-832e-f267cc847044\" type=\"checkbox\" ><label for=\"a40249f7-94c8-4274-832e-f267cc847044\" class=\"sk-toggleable__label sk-toggleable__label-arrow\">TfidfVectorizer</label><div class=\"sk-toggleable__content\"><pre>TfidfVectorizer()</pre></div></div></div><div class=\"sk-item\"><div class=\"sk-estimator sk-toggleable\"><input class=\"sk-toggleable__control sk-hidden--visually\" id=\"01bf4626-9bc4-487e-8cc6-7a67819310f6\" type=\"checkbox\" ><label for=\"01bf4626-9bc4-487e-8cc6-7a67819310f6\" class=\"sk-toggleable__label sk-toggleable__label-arrow\">Normalizer</label><div class=\"sk-toggleable__content\"><pre>Normalizer()</pre></div></div></div><div class=\"sk-item\"><div class=\"sk-estimator sk-toggleable\"><input class=\"sk-toggleable__control sk-hidden--visually\" id=\"d46dd73a-f65f-4d7b-b98b-12165f1008d4\" type=\"checkbox\" ><label for=\"d46dd73a-f65f-4d7b-b98b-12165f1008d4\" class=\"sk-toggleable__label sk-toggleable__label-arrow\">LinearSVC</label><div class=\"sk-toggleable__content\"><pre>LinearSVC()</pre></div></div></div></div></div></div></div></div></div></div></div></div>"
      ],
      "text/plain": [
       "GridSearchCV(cv=10,\n",
       "             estimator=Pipeline(steps=[('tfidf', TfidfVectorizer()),\n",
       "                                       ('norm', Normalizer()),\n",
       "                                       ('model', LinearSVC())]),\n",
       "             param_grid={'model__C': [0.1, 1, 10],\n",
       "                         'model__penalty': ['l1', 'l2'],\n",
       "                         'tfidf__max_df': [0.8, 0.9],\n",
       "                         'tfidf__min_df': [2, 4, 5],\n",
       "                         'tfidf__ngram_range': [(1, 1), (1, 2)]},\n",
       "             scoring=make_scorer(f1_score, average=macro))"
      ]
     },
     "execution_count": 39,
     "metadata": {},
     "output_type": "execute_result"
    },
    {
     "name": "stdout",
     "output_type": "stream",
     "text": [
      "The best score of the model is:  0.687\n",
      "The best estimator of the model is:  Pipeline(steps=[('tfidf',\n",
      "                 TfidfVectorizer(max_df=0.9, min_df=5, ngram_range=(1, 2))),\n",
      "                ('norm', Normalizer()), ('model', LinearSVC(C=10))])\n"
     ]
    },
    {
     "data": {
      "text/html": [
       "<style>#sk-df829153-57ff-44d2-91cd-b4c71869e023 {color: black;background-color: white;}#sk-df829153-57ff-44d2-91cd-b4c71869e023 pre{padding: 0;}#sk-df829153-57ff-44d2-91cd-b4c71869e023 div.sk-toggleable {background-color: white;}#sk-df829153-57ff-44d2-91cd-b4c71869e023 label.sk-toggleable__label {cursor: pointer;display: block;width: 100%;margin-bottom: 0;padding: 0.3em;box-sizing: border-box;text-align: center;}#sk-df829153-57ff-44d2-91cd-b4c71869e023 label.sk-toggleable__label-arrow:before {content: \"▸\";float: left;margin-right: 0.25em;color: #696969;}#sk-df829153-57ff-44d2-91cd-b4c71869e023 label.sk-toggleable__label-arrow:hover:before {color: black;}#sk-df829153-57ff-44d2-91cd-b4c71869e023 div.sk-estimator:hover label.sk-toggleable__label-arrow:before {color: black;}#sk-df829153-57ff-44d2-91cd-b4c71869e023 div.sk-toggleable__content {max-height: 0;max-width: 0;overflow: hidden;text-align: left;background-color: #f0f8ff;}#sk-df829153-57ff-44d2-91cd-b4c71869e023 div.sk-toggleable__content pre {margin: 0.2em;color: black;border-radius: 0.25em;background-color: #f0f8ff;}#sk-df829153-57ff-44d2-91cd-b4c71869e023 input.sk-toggleable__control:checked~div.sk-toggleable__content {max-height: 200px;max-width: 100%;overflow: auto;}#sk-df829153-57ff-44d2-91cd-b4c71869e023 input.sk-toggleable__control:checked~label.sk-toggleable__label-arrow:before {content: \"▾\";}#sk-df829153-57ff-44d2-91cd-b4c71869e023 div.sk-estimator input.sk-toggleable__control:checked~label.sk-toggleable__label {background-color: #d4ebff;}#sk-df829153-57ff-44d2-91cd-b4c71869e023 div.sk-label input.sk-toggleable__control:checked~label.sk-toggleable__label {background-color: #d4ebff;}#sk-df829153-57ff-44d2-91cd-b4c71869e023 input.sk-hidden--visually {border: 0;clip: rect(1px 1px 1px 1px);clip: rect(1px, 1px, 1px, 1px);height: 1px;margin: -1px;overflow: hidden;padding: 0;position: absolute;width: 1px;}#sk-df829153-57ff-44d2-91cd-b4c71869e023 div.sk-estimator {font-family: monospace;background-color: #f0f8ff;border: 1px dotted black;border-radius: 0.25em;box-sizing: border-box;margin-bottom: 0.5em;}#sk-df829153-57ff-44d2-91cd-b4c71869e023 div.sk-estimator:hover {background-color: #d4ebff;}#sk-df829153-57ff-44d2-91cd-b4c71869e023 div.sk-parallel-item::after {content: \"\";width: 100%;border-bottom: 1px solid gray;flex-grow: 1;}#sk-df829153-57ff-44d2-91cd-b4c71869e023 div.sk-label:hover label.sk-toggleable__label {background-color: #d4ebff;}#sk-df829153-57ff-44d2-91cd-b4c71869e023 div.sk-serial::before {content: \"\";position: absolute;border-left: 1px solid gray;box-sizing: border-box;top: 2em;bottom: 0;left: 50%;}#sk-df829153-57ff-44d2-91cd-b4c71869e023 div.sk-serial {display: flex;flex-direction: column;align-items: center;background-color: white;padding-right: 0.2em;padding-left: 0.2em;}#sk-df829153-57ff-44d2-91cd-b4c71869e023 div.sk-item {z-index: 1;}#sk-df829153-57ff-44d2-91cd-b4c71869e023 div.sk-parallel {display: flex;align-items: stretch;justify-content: center;background-color: white;}#sk-df829153-57ff-44d2-91cd-b4c71869e023 div.sk-parallel::before {content: \"\";position: absolute;border-left: 1px solid gray;box-sizing: border-box;top: 2em;bottom: 0;left: 50%;}#sk-df829153-57ff-44d2-91cd-b4c71869e023 div.sk-parallel-item {display: flex;flex-direction: column;position: relative;background-color: white;}#sk-df829153-57ff-44d2-91cd-b4c71869e023 div.sk-parallel-item:first-child::after {align-self: flex-end;width: 50%;}#sk-df829153-57ff-44d2-91cd-b4c71869e023 div.sk-parallel-item:last-child::after {align-self: flex-start;width: 50%;}#sk-df829153-57ff-44d2-91cd-b4c71869e023 div.sk-parallel-item:only-child::after {width: 0;}#sk-df829153-57ff-44d2-91cd-b4c71869e023 div.sk-dashed-wrapped {border: 1px dashed gray;margin: 0 0.4em 0.5em 0.4em;box-sizing: border-box;padding-bottom: 0.4em;background-color: white;position: relative;}#sk-df829153-57ff-44d2-91cd-b4c71869e023 div.sk-label label {font-family: monospace;font-weight: bold;background-color: white;display: inline-block;line-height: 1.2em;}#sk-df829153-57ff-44d2-91cd-b4c71869e023 div.sk-label-container {position: relative;z-index: 2;text-align: center;}#sk-df829153-57ff-44d2-91cd-b4c71869e023 div.sk-container {/* jupyter's `normalize.less` sets `[hidden] { display: none; }` but bootstrap.min.css set `[hidden] { display: none !important; }` so we also need the `!important` here to be able to override the default hidden behavior on the sphinx rendered scikit-learn.org. See: https://github.com/scikit-learn/scikit-learn/issues/21755 */display: inline-block !important;position: relative;}#sk-df829153-57ff-44d2-91cd-b4c71869e023 div.sk-text-repr-fallback {display: none;}</style><div id=\"sk-df829153-57ff-44d2-91cd-b4c71869e023\" class=\"sk-top-container\"><div class=\"sk-text-repr-fallback\"><pre>GridSearchCV(cv=10,\n",
       "             estimator=Pipeline(steps=[(&#x27;tfidf&#x27;, TfidfVectorizer()),\n",
       "                                       (&#x27;norm&#x27;, Normalizer()),\n",
       "                                       (&#x27;model&#x27;, DecisionTreeClassifier())]),\n",
       "             param_grid={&#x27;model__max_depth&#x27;: [5, 10, 15],\n",
       "                         &#x27;model__min_samples_leaf&#x27;: [5, 10, 15],\n",
       "                         &#x27;tfidf__max_df&#x27;: [0.8, 0.9],\n",
       "                         &#x27;tfidf__min_df&#x27;: [2, 4, 5],\n",
       "                         &#x27;tfidf__ngram_range&#x27;: [(1, 1), (1, 2)]},\n",
       "             scoring=make_scorer(f1_score, average=macro))</pre><b>Please rerun this cell to show the HTML repr or trust the notebook.</b></div><div class=\"sk-container\" hidden><div class=\"sk-item sk-dashed-wrapped\"><div class=\"sk-label-container\"><div class=\"sk-label sk-toggleable\"><input class=\"sk-toggleable__control sk-hidden--visually\" id=\"2cf6c9f8-9cde-4a48-9108-4591f8fd12cb\" type=\"checkbox\" ><label for=\"2cf6c9f8-9cde-4a48-9108-4591f8fd12cb\" class=\"sk-toggleable__label sk-toggleable__label-arrow\">GridSearchCV</label><div class=\"sk-toggleable__content\"><pre>GridSearchCV(cv=10,\n",
       "             estimator=Pipeline(steps=[(&#x27;tfidf&#x27;, TfidfVectorizer()),\n",
       "                                       (&#x27;norm&#x27;, Normalizer()),\n",
       "                                       (&#x27;model&#x27;, DecisionTreeClassifier())]),\n",
       "             param_grid={&#x27;model__max_depth&#x27;: [5, 10, 15],\n",
       "                         &#x27;model__min_samples_leaf&#x27;: [5, 10, 15],\n",
       "                         &#x27;tfidf__max_df&#x27;: [0.8, 0.9],\n",
       "                         &#x27;tfidf__min_df&#x27;: [2, 4, 5],\n",
       "                         &#x27;tfidf__ngram_range&#x27;: [(1, 1), (1, 2)]},\n",
       "             scoring=make_scorer(f1_score, average=macro))</pre></div></div></div><div class=\"sk-parallel\"><div class=\"sk-parallel-item\"><div class=\"sk-item\"><div class=\"sk-serial\"><div class=\"sk-item\"><div class=\"sk-serial\"><div class=\"sk-item\"><div class=\"sk-estimator sk-toggleable\"><input class=\"sk-toggleable__control sk-hidden--visually\" id=\"59bdc943-2df9-410f-a060-d7a08413a71d\" type=\"checkbox\" ><label for=\"59bdc943-2df9-410f-a060-d7a08413a71d\" class=\"sk-toggleable__label sk-toggleable__label-arrow\">TfidfVectorizer</label><div class=\"sk-toggleable__content\"><pre>TfidfVectorizer()</pre></div></div></div><div class=\"sk-item\"><div class=\"sk-estimator sk-toggleable\"><input class=\"sk-toggleable__control sk-hidden--visually\" id=\"ca4d4fea-466b-4e5f-9f5c-e8dd42882900\" type=\"checkbox\" ><label for=\"ca4d4fea-466b-4e5f-9f5c-e8dd42882900\" class=\"sk-toggleable__label sk-toggleable__label-arrow\">Normalizer</label><div class=\"sk-toggleable__content\"><pre>Normalizer()</pre></div></div></div><div class=\"sk-item\"><div class=\"sk-estimator sk-toggleable\"><input class=\"sk-toggleable__control sk-hidden--visually\" id=\"86122789-0e21-4b87-967b-2ccc39424d51\" type=\"checkbox\" ><label for=\"86122789-0e21-4b87-967b-2ccc39424d51\" class=\"sk-toggleable__label sk-toggleable__label-arrow\">DecisionTreeClassifier</label><div class=\"sk-toggleable__content\"><pre>DecisionTreeClassifier()</pre></div></div></div></div></div></div></div></div></div></div></div></div>"
      ],
      "text/plain": [
       "GridSearchCV(cv=10,\n",
       "             estimator=Pipeline(steps=[('tfidf', TfidfVectorizer()),\n",
       "                                       ('norm', Normalizer()),\n",
       "                                       ('model', DecisionTreeClassifier())]),\n",
       "             param_grid={'model__max_depth': [5, 10, 15],\n",
       "                         'model__min_samples_leaf': [5, 10, 15],\n",
       "                         'tfidf__max_df': [0.8, 0.9],\n",
       "                         'tfidf__min_df': [2, 4, 5],\n",
       "                         'tfidf__ngram_range': [(1, 1), (1, 2)]},\n",
       "             scoring=make_scorer(f1_score, average=macro))"
      ]
     },
     "execution_count": 39,
     "metadata": {},
     "output_type": "execute_result"
    },
    {
     "name": "stdout",
     "output_type": "stream",
     "text": [
      "The best score of the model is:  0.647\n",
      "The best estimator of the model is:  Pipeline(steps=[('tfidf', TfidfVectorizer(max_df=0.9, min_df=4)),\n",
      "                ('norm', Normalizer()),\n",
      "                ('model',\n",
      "                 DecisionTreeClassifier(max_depth=15, min_samples_leaf=15))])\n"
     ]
    },
    {
     "data": {
      "text/html": [
       "<style>#sk-b4ef28c5-74e2-4d44-ae9b-412f0584962f {color: black;background-color: white;}#sk-b4ef28c5-74e2-4d44-ae9b-412f0584962f pre{padding: 0;}#sk-b4ef28c5-74e2-4d44-ae9b-412f0584962f div.sk-toggleable {background-color: white;}#sk-b4ef28c5-74e2-4d44-ae9b-412f0584962f label.sk-toggleable__label {cursor: pointer;display: block;width: 100%;margin-bottom: 0;padding: 0.3em;box-sizing: border-box;text-align: center;}#sk-b4ef28c5-74e2-4d44-ae9b-412f0584962f label.sk-toggleable__label-arrow:before {content: \"▸\";float: left;margin-right: 0.25em;color: #696969;}#sk-b4ef28c5-74e2-4d44-ae9b-412f0584962f label.sk-toggleable__label-arrow:hover:before {color: black;}#sk-b4ef28c5-74e2-4d44-ae9b-412f0584962f div.sk-estimator:hover label.sk-toggleable__label-arrow:before {color: black;}#sk-b4ef28c5-74e2-4d44-ae9b-412f0584962f div.sk-toggleable__content {max-height: 0;max-width: 0;overflow: hidden;text-align: left;background-color: #f0f8ff;}#sk-b4ef28c5-74e2-4d44-ae9b-412f0584962f div.sk-toggleable__content pre {margin: 0.2em;color: black;border-radius: 0.25em;background-color: #f0f8ff;}#sk-b4ef28c5-74e2-4d44-ae9b-412f0584962f input.sk-toggleable__control:checked~div.sk-toggleable__content {max-height: 200px;max-width: 100%;overflow: auto;}#sk-b4ef28c5-74e2-4d44-ae9b-412f0584962f input.sk-toggleable__control:checked~label.sk-toggleable__label-arrow:before {content: \"▾\";}#sk-b4ef28c5-74e2-4d44-ae9b-412f0584962f div.sk-estimator input.sk-toggleable__control:checked~label.sk-toggleable__label {background-color: #d4ebff;}#sk-b4ef28c5-74e2-4d44-ae9b-412f0584962f div.sk-label input.sk-toggleable__control:checked~label.sk-toggleable__label {background-color: #d4ebff;}#sk-b4ef28c5-74e2-4d44-ae9b-412f0584962f input.sk-hidden--visually {border: 0;clip: rect(1px 1px 1px 1px);clip: rect(1px, 1px, 1px, 1px);height: 1px;margin: -1px;overflow: hidden;padding: 0;position: absolute;width: 1px;}#sk-b4ef28c5-74e2-4d44-ae9b-412f0584962f div.sk-estimator {font-family: monospace;background-color: #f0f8ff;border: 1px dotted black;border-radius: 0.25em;box-sizing: border-box;margin-bottom: 0.5em;}#sk-b4ef28c5-74e2-4d44-ae9b-412f0584962f div.sk-estimator:hover {background-color: #d4ebff;}#sk-b4ef28c5-74e2-4d44-ae9b-412f0584962f div.sk-parallel-item::after {content: \"\";width: 100%;border-bottom: 1px solid gray;flex-grow: 1;}#sk-b4ef28c5-74e2-4d44-ae9b-412f0584962f div.sk-label:hover label.sk-toggleable__label {background-color: #d4ebff;}#sk-b4ef28c5-74e2-4d44-ae9b-412f0584962f div.sk-serial::before {content: \"\";position: absolute;border-left: 1px solid gray;box-sizing: border-box;top: 2em;bottom: 0;left: 50%;}#sk-b4ef28c5-74e2-4d44-ae9b-412f0584962f div.sk-serial {display: flex;flex-direction: column;align-items: center;background-color: white;padding-right: 0.2em;padding-left: 0.2em;}#sk-b4ef28c5-74e2-4d44-ae9b-412f0584962f div.sk-item {z-index: 1;}#sk-b4ef28c5-74e2-4d44-ae9b-412f0584962f div.sk-parallel {display: flex;align-items: stretch;justify-content: center;background-color: white;}#sk-b4ef28c5-74e2-4d44-ae9b-412f0584962f div.sk-parallel::before {content: \"\";position: absolute;border-left: 1px solid gray;box-sizing: border-box;top: 2em;bottom: 0;left: 50%;}#sk-b4ef28c5-74e2-4d44-ae9b-412f0584962f div.sk-parallel-item {display: flex;flex-direction: column;position: relative;background-color: white;}#sk-b4ef28c5-74e2-4d44-ae9b-412f0584962f div.sk-parallel-item:first-child::after {align-self: flex-end;width: 50%;}#sk-b4ef28c5-74e2-4d44-ae9b-412f0584962f div.sk-parallel-item:last-child::after {align-self: flex-start;width: 50%;}#sk-b4ef28c5-74e2-4d44-ae9b-412f0584962f div.sk-parallel-item:only-child::after {width: 0;}#sk-b4ef28c5-74e2-4d44-ae9b-412f0584962f div.sk-dashed-wrapped {border: 1px dashed gray;margin: 0 0.4em 0.5em 0.4em;box-sizing: border-box;padding-bottom: 0.4em;background-color: white;position: relative;}#sk-b4ef28c5-74e2-4d44-ae9b-412f0584962f div.sk-label label {font-family: monospace;font-weight: bold;background-color: white;display: inline-block;line-height: 1.2em;}#sk-b4ef28c5-74e2-4d44-ae9b-412f0584962f div.sk-label-container {position: relative;z-index: 2;text-align: center;}#sk-b4ef28c5-74e2-4d44-ae9b-412f0584962f div.sk-container {/* jupyter's `normalize.less` sets `[hidden] { display: none; }` but bootstrap.min.css set `[hidden] { display: none !important; }` so we also need the `!important` here to be able to override the default hidden behavior on the sphinx rendered scikit-learn.org. See: https://github.com/scikit-learn/scikit-learn/issues/21755 */display: inline-block !important;position: relative;}#sk-b4ef28c5-74e2-4d44-ae9b-412f0584962f div.sk-text-repr-fallback {display: none;}</style><div id=\"sk-b4ef28c5-74e2-4d44-ae9b-412f0584962f\" class=\"sk-top-container\"><div class=\"sk-text-repr-fallback\"><pre>GridSearchCV(cv=10,\n",
       "             estimator=Pipeline(steps=[(&#x27;tfidf&#x27;, TfidfVectorizer()),\n",
       "                                       (&#x27;norm&#x27;, Normalizer()),\n",
       "                                       (&#x27;model&#x27;, MultinomialNB())]),\n",
       "             param_grid={&#x27;model__alpha&#x27;: [0.01, 0.1, 1],\n",
       "                         &#x27;tfidf__max_df&#x27;: [0.8, 0.9],\n",
       "                         &#x27;tfidf__min_df&#x27;: [2, 4, 5],\n",
       "                         &#x27;tfidf__ngram_range&#x27;: [(1, 1), (1, 2)]},\n",
       "             scoring=make_scorer(f1_score, average=macro))</pre><b>Please rerun this cell to show the HTML repr or trust the notebook.</b></div><div class=\"sk-container\" hidden><div class=\"sk-item sk-dashed-wrapped\"><div class=\"sk-label-container\"><div class=\"sk-label sk-toggleable\"><input class=\"sk-toggleable__control sk-hidden--visually\" id=\"25e309f8-141e-42a9-b7cc-d535d99f7906\" type=\"checkbox\" ><label for=\"25e309f8-141e-42a9-b7cc-d535d99f7906\" class=\"sk-toggleable__label sk-toggleable__label-arrow\">GridSearchCV</label><div class=\"sk-toggleable__content\"><pre>GridSearchCV(cv=10,\n",
       "             estimator=Pipeline(steps=[(&#x27;tfidf&#x27;, TfidfVectorizer()),\n",
       "                                       (&#x27;norm&#x27;, Normalizer()),\n",
       "                                       (&#x27;model&#x27;, MultinomialNB())]),\n",
       "             param_grid={&#x27;model__alpha&#x27;: [0.01, 0.1, 1],\n",
       "                         &#x27;tfidf__max_df&#x27;: [0.8, 0.9],\n",
       "                         &#x27;tfidf__min_df&#x27;: [2, 4, 5],\n",
       "                         &#x27;tfidf__ngram_range&#x27;: [(1, 1), (1, 2)]},\n",
       "             scoring=make_scorer(f1_score, average=macro))</pre></div></div></div><div class=\"sk-parallel\"><div class=\"sk-parallel-item\"><div class=\"sk-item\"><div class=\"sk-serial\"><div class=\"sk-item\"><div class=\"sk-serial\"><div class=\"sk-item\"><div class=\"sk-estimator sk-toggleable\"><input class=\"sk-toggleable__control sk-hidden--visually\" id=\"6b4d6aed-4710-45a8-a4b0-35a3314fe8f4\" type=\"checkbox\" ><label for=\"6b4d6aed-4710-45a8-a4b0-35a3314fe8f4\" class=\"sk-toggleable__label sk-toggleable__label-arrow\">TfidfVectorizer</label><div class=\"sk-toggleable__content\"><pre>TfidfVectorizer()</pre></div></div></div><div class=\"sk-item\"><div class=\"sk-estimator sk-toggleable\"><input class=\"sk-toggleable__control sk-hidden--visually\" id=\"7b4e9633-f836-4eae-a24d-1f4bdb9e170b\" type=\"checkbox\" ><label for=\"7b4e9633-f836-4eae-a24d-1f4bdb9e170b\" class=\"sk-toggleable__label sk-toggleable__label-arrow\">Normalizer</label><div class=\"sk-toggleable__content\"><pre>Normalizer()</pre></div></div></div><div class=\"sk-item\"><div class=\"sk-estimator sk-toggleable\"><input class=\"sk-toggleable__control sk-hidden--visually\" id=\"076c6170-75f2-4be3-b987-cecfea07902a\" type=\"checkbox\" ><label for=\"076c6170-75f2-4be3-b987-cecfea07902a\" class=\"sk-toggleable__label sk-toggleable__label-arrow\">MultinomialNB</label><div class=\"sk-toggleable__content\"><pre>MultinomialNB()</pre></div></div></div></div></div></div></div></div></div></div></div></div>"
      ],
      "text/plain": [
       "GridSearchCV(cv=10,\n",
       "             estimator=Pipeline(steps=[('tfidf', TfidfVectorizer()),\n",
       "                                       ('norm', Normalizer()),\n",
       "                                       ('model', MultinomialNB())]),\n",
       "             param_grid={'model__alpha': [0.01, 0.1, 1],\n",
       "                         'tfidf__max_df': [0.8, 0.9],\n",
       "                         'tfidf__min_df': [2, 4, 5],\n",
       "                         'tfidf__ngram_range': [(1, 1), (1, 2)]},\n",
       "             scoring=make_scorer(f1_score, average=macro))"
      ]
     },
     "execution_count": 39,
     "metadata": {},
     "output_type": "execute_result"
    },
    {
     "name": "stdout",
     "output_type": "stream",
     "text": [
      "The best score of the model is:  0.526\n",
      "The best estimator of the model is:  Pipeline(steps=[('tfidf',\n",
      "                 TfidfVectorizer(max_df=0.8, min_df=5, ngram_range=(1, 2))),\n",
      "                ('norm', Normalizer()), ('model', MultinomialNB(alpha=0.01))])\n"
     ]
    },
    {
     "data": {
      "text/html": [
       "<style>#sk-fc26728e-cd09-4a24-b2a7-afc196577fac {color: black;background-color: white;}#sk-fc26728e-cd09-4a24-b2a7-afc196577fac pre{padding: 0;}#sk-fc26728e-cd09-4a24-b2a7-afc196577fac div.sk-toggleable {background-color: white;}#sk-fc26728e-cd09-4a24-b2a7-afc196577fac label.sk-toggleable__label {cursor: pointer;display: block;width: 100%;margin-bottom: 0;padding: 0.3em;box-sizing: border-box;text-align: center;}#sk-fc26728e-cd09-4a24-b2a7-afc196577fac label.sk-toggleable__label-arrow:before {content: \"▸\";float: left;margin-right: 0.25em;color: #696969;}#sk-fc26728e-cd09-4a24-b2a7-afc196577fac label.sk-toggleable__label-arrow:hover:before {color: black;}#sk-fc26728e-cd09-4a24-b2a7-afc196577fac div.sk-estimator:hover label.sk-toggleable__label-arrow:before {color: black;}#sk-fc26728e-cd09-4a24-b2a7-afc196577fac div.sk-toggleable__content {max-height: 0;max-width: 0;overflow: hidden;text-align: left;background-color: #f0f8ff;}#sk-fc26728e-cd09-4a24-b2a7-afc196577fac div.sk-toggleable__content pre {margin: 0.2em;color: black;border-radius: 0.25em;background-color: #f0f8ff;}#sk-fc26728e-cd09-4a24-b2a7-afc196577fac input.sk-toggleable__control:checked~div.sk-toggleable__content {max-height: 200px;max-width: 100%;overflow: auto;}#sk-fc26728e-cd09-4a24-b2a7-afc196577fac input.sk-toggleable__control:checked~label.sk-toggleable__label-arrow:before {content: \"▾\";}#sk-fc26728e-cd09-4a24-b2a7-afc196577fac div.sk-estimator input.sk-toggleable__control:checked~label.sk-toggleable__label {background-color: #d4ebff;}#sk-fc26728e-cd09-4a24-b2a7-afc196577fac div.sk-label input.sk-toggleable__control:checked~label.sk-toggleable__label {background-color: #d4ebff;}#sk-fc26728e-cd09-4a24-b2a7-afc196577fac input.sk-hidden--visually {border: 0;clip: rect(1px 1px 1px 1px);clip: rect(1px, 1px, 1px, 1px);height: 1px;margin: -1px;overflow: hidden;padding: 0;position: absolute;width: 1px;}#sk-fc26728e-cd09-4a24-b2a7-afc196577fac div.sk-estimator {font-family: monospace;background-color: #f0f8ff;border: 1px dotted black;border-radius: 0.25em;box-sizing: border-box;margin-bottom: 0.5em;}#sk-fc26728e-cd09-4a24-b2a7-afc196577fac div.sk-estimator:hover {background-color: #d4ebff;}#sk-fc26728e-cd09-4a24-b2a7-afc196577fac div.sk-parallel-item::after {content: \"\";width: 100%;border-bottom: 1px solid gray;flex-grow: 1;}#sk-fc26728e-cd09-4a24-b2a7-afc196577fac div.sk-label:hover label.sk-toggleable__label {background-color: #d4ebff;}#sk-fc26728e-cd09-4a24-b2a7-afc196577fac div.sk-serial::before {content: \"\";position: absolute;border-left: 1px solid gray;box-sizing: border-box;top: 2em;bottom: 0;left: 50%;}#sk-fc26728e-cd09-4a24-b2a7-afc196577fac div.sk-serial {display: flex;flex-direction: column;align-items: center;background-color: white;padding-right: 0.2em;padding-left: 0.2em;}#sk-fc26728e-cd09-4a24-b2a7-afc196577fac div.sk-item {z-index: 1;}#sk-fc26728e-cd09-4a24-b2a7-afc196577fac div.sk-parallel {display: flex;align-items: stretch;justify-content: center;background-color: white;}#sk-fc26728e-cd09-4a24-b2a7-afc196577fac div.sk-parallel::before {content: \"\";position: absolute;border-left: 1px solid gray;box-sizing: border-box;top: 2em;bottom: 0;left: 50%;}#sk-fc26728e-cd09-4a24-b2a7-afc196577fac div.sk-parallel-item {display: flex;flex-direction: column;position: relative;background-color: white;}#sk-fc26728e-cd09-4a24-b2a7-afc196577fac div.sk-parallel-item:first-child::after {align-self: flex-end;width: 50%;}#sk-fc26728e-cd09-4a24-b2a7-afc196577fac div.sk-parallel-item:last-child::after {align-self: flex-start;width: 50%;}#sk-fc26728e-cd09-4a24-b2a7-afc196577fac div.sk-parallel-item:only-child::after {width: 0;}#sk-fc26728e-cd09-4a24-b2a7-afc196577fac div.sk-dashed-wrapped {border: 1px dashed gray;margin: 0 0.4em 0.5em 0.4em;box-sizing: border-box;padding-bottom: 0.4em;background-color: white;position: relative;}#sk-fc26728e-cd09-4a24-b2a7-afc196577fac div.sk-label label {font-family: monospace;font-weight: bold;background-color: white;display: inline-block;line-height: 1.2em;}#sk-fc26728e-cd09-4a24-b2a7-afc196577fac div.sk-label-container {position: relative;z-index: 2;text-align: center;}#sk-fc26728e-cd09-4a24-b2a7-afc196577fac div.sk-container {/* jupyter's `normalize.less` sets `[hidden] { display: none; }` but bootstrap.min.css set `[hidden] { display: none !important; }` so we also need the `!important` here to be able to override the default hidden behavior on the sphinx rendered scikit-learn.org. See: https://github.com/scikit-learn/scikit-learn/issues/21755 */display: inline-block !important;position: relative;}#sk-fc26728e-cd09-4a24-b2a7-afc196577fac div.sk-text-repr-fallback {display: none;}</style><div id=\"sk-fc26728e-cd09-4a24-b2a7-afc196577fac\" class=\"sk-top-container\"><div class=\"sk-text-repr-fallback\"><pre>GridSearchCV(cv=10,\n",
       "             estimator=Pipeline(steps=[(&#x27;tfidf&#x27;, TfidfVectorizer()),\n",
       "                                       (&#x27;norm&#x27;, Normalizer()),\n",
       "                                       (&#x27;model&#x27;, SGDClassifier())]),\n",
       "             param_grid={&#x27;model__alpha&#x27;: [0.001, 0.0001],\n",
       "                         &#x27;model__penalty&#x27;: [&#x27;l1&#x27;, &#x27;l2&#x27;],\n",
       "                         &#x27;tfidf__max_df&#x27;: [0.8, 0.9],\n",
       "                         &#x27;tfidf__min_df&#x27;: [2, 4, 5],\n",
       "                         &#x27;tfidf__ngram_range&#x27;: [(1, 1), (1, 2)]},\n",
       "             scoring=make_scorer(f1_score, average=macro))</pre><b>Please rerun this cell to show the HTML repr or trust the notebook.</b></div><div class=\"sk-container\" hidden><div class=\"sk-item sk-dashed-wrapped\"><div class=\"sk-label-container\"><div class=\"sk-label sk-toggleable\"><input class=\"sk-toggleable__control sk-hidden--visually\" id=\"f69f87f4-8f8d-470d-aa25-cd5f9d5f7d42\" type=\"checkbox\" ><label for=\"f69f87f4-8f8d-470d-aa25-cd5f9d5f7d42\" class=\"sk-toggleable__label sk-toggleable__label-arrow\">GridSearchCV</label><div class=\"sk-toggleable__content\"><pre>GridSearchCV(cv=10,\n",
       "             estimator=Pipeline(steps=[(&#x27;tfidf&#x27;, TfidfVectorizer()),\n",
       "                                       (&#x27;norm&#x27;, Normalizer()),\n",
       "                                       (&#x27;model&#x27;, SGDClassifier())]),\n",
       "             param_grid={&#x27;model__alpha&#x27;: [0.001, 0.0001],\n",
       "                         &#x27;model__penalty&#x27;: [&#x27;l1&#x27;, &#x27;l2&#x27;],\n",
       "                         &#x27;tfidf__max_df&#x27;: [0.8, 0.9],\n",
       "                         &#x27;tfidf__min_df&#x27;: [2, 4, 5],\n",
       "                         &#x27;tfidf__ngram_range&#x27;: [(1, 1), (1, 2)]},\n",
       "             scoring=make_scorer(f1_score, average=macro))</pre></div></div></div><div class=\"sk-parallel\"><div class=\"sk-parallel-item\"><div class=\"sk-item\"><div class=\"sk-serial\"><div class=\"sk-item\"><div class=\"sk-serial\"><div class=\"sk-item\"><div class=\"sk-estimator sk-toggleable\"><input class=\"sk-toggleable__control sk-hidden--visually\" id=\"810c5917-e739-4e7a-adc3-5c08241262bb\" type=\"checkbox\" ><label for=\"810c5917-e739-4e7a-adc3-5c08241262bb\" class=\"sk-toggleable__label sk-toggleable__label-arrow\">TfidfVectorizer</label><div class=\"sk-toggleable__content\"><pre>TfidfVectorizer()</pre></div></div></div><div class=\"sk-item\"><div class=\"sk-estimator sk-toggleable\"><input class=\"sk-toggleable__control sk-hidden--visually\" id=\"1f83f5cb-10fc-4231-8e92-6a18ffe73bcc\" type=\"checkbox\" ><label for=\"1f83f5cb-10fc-4231-8e92-6a18ffe73bcc\" class=\"sk-toggleable__label sk-toggleable__label-arrow\">Normalizer</label><div class=\"sk-toggleable__content\"><pre>Normalizer()</pre></div></div></div><div class=\"sk-item\"><div class=\"sk-estimator sk-toggleable\"><input class=\"sk-toggleable__control sk-hidden--visually\" id=\"28beff14-dc7b-4796-bc14-a103ea507cbd\" type=\"checkbox\" ><label for=\"28beff14-dc7b-4796-bc14-a103ea507cbd\" class=\"sk-toggleable__label sk-toggleable__label-arrow\">SGDClassifier</label><div class=\"sk-toggleable__content\"><pre>SGDClassifier()</pre></div></div></div></div></div></div></div></div></div></div></div></div>"
      ],
      "text/plain": [
       "GridSearchCV(cv=10,\n",
       "             estimator=Pipeline(steps=[('tfidf', TfidfVectorizer()),\n",
       "                                       ('norm', Normalizer()),\n",
       "                                       ('model', SGDClassifier())]),\n",
       "             param_grid={'model__alpha': [0.001, 0.0001],\n",
       "                         'model__penalty': ['l1', 'l2'],\n",
       "                         'tfidf__max_df': [0.8, 0.9],\n",
       "                         'tfidf__min_df': [2, 4, 5],\n",
       "                         'tfidf__ngram_range': [(1, 1), (1, 2)]},\n",
       "             scoring=make_scorer(f1_score, average=macro))"
      ]
     },
     "execution_count": 39,
     "metadata": {},
     "output_type": "execute_result"
    },
    {
     "name": "stdout",
     "output_type": "stream",
     "text": [
      "The best score of the model is:  0.72\n",
      "The best estimator of the model is:  Pipeline(steps=[('tfidf',\n",
      "                 TfidfVectorizer(max_df=0.9, min_df=5, ngram_range=(1, 2))),\n",
      "                ('norm', Normalizer()),\n",
      "                ('model', SGDClassifier(penalty='l1'))])\n"
     ]
    },
    {
     "data": {
      "text/html": [
       "<style>#sk-2c817643-6183-4dd0-9454-49b3e2b89d37 {color: black;background-color: white;}#sk-2c817643-6183-4dd0-9454-49b3e2b89d37 pre{padding: 0;}#sk-2c817643-6183-4dd0-9454-49b3e2b89d37 div.sk-toggleable {background-color: white;}#sk-2c817643-6183-4dd0-9454-49b3e2b89d37 label.sk-toggleable__label {cursor: pointer;display: block;width: 100%;margin-bottom: 0;padding: 0.3em;box-sizing: border-box;text-align: center;}#sk-2c817643-6183-4dd0-9454-49b3e2b89d37 label.sk-toggleable__label-arrow:before {content: \"▸\";float: left;margin-right: 0.25em;color: #696969;}#sk-2c817643-6183-4dd0-9454-49b3e2b89d37 label.sk-toggleable__label-arrow:hover:before {color: black;}#sk-2c817643-6183-4dd0-9454-49b3e2b89d37 div.sk-estimator:hover label.sk-toggleable__label-arrow:before {color: black;}#sk-2c817643-6183-4dd0-9454-49b3e2b89d37 div.sk-toggleable__content {max-height: 0;max-width: 0;overflow: hidden;text-align: left;background-color: #f0f8ff;}#sk-2c817643-6183-4dd0-9454-49b3e2b89d37 div.sk-toggleable__content pre {margin: 0.2em;color: black;border-radius: 0.25em;background-color: #f0f8ff;}#sk-2c817643-6183-4dd0-9454-49b3e2b89d37 input.sk-toggleable__control:checked~div.sk-toggleable__content {max-height: 200px;max-width: 100%;overflow: auto;}#sk-2c817643-6183-4dd0-9454-49b3e2b89d37 input.sk-toggleable__control:checked~label.sk-toggleable__label-arrow:before {content: \"▾\";}#sk-2c817643-6183-4dd0-9454-49b3e2b89d37 div.sk-estimator input.sk-toggleable__control:checked~label.sk-toggleable__label {background-color: #d4ebff;}#sk-2c817643-6183-4dd0-9454-49b3e2b89d37 div.sk-label input.sk-toggleable__control:checked~label.sk-toggleable__label {background-color: #d4ebff;}#sk-2c817643-6183-4dd0-9454-49b3e2b89d37 input.sk-hidden--visually {border: 0;clip: rect(1px 1px 1px 1px);clip: rect(1px, 1px, 1px, 1px);height: 1px;margin: -1px;overflow: hidden;padding: 0;position: absolute;width: 1px;}#sk-2c817643-6183-4dd0-9454-49b3e2b89d37 div.sk-estimator {font-family: monospace;background-color: #f0f8ff;border: 1px dotted black;border-radius: 0.25em;box-sizing: border-box;margin-bottom: 0.5em;}#sk-2c817643-6183-4dd0-9454-49b3e2b89d37 div.sk-estimator:hover {background-color: #d4ebff;}#sk-2c817643-6183-4dd0-9454-49b3e2b89d37 div.sk-parallel-item::after {content: \"\";width: 100%;border-bottom: 1px solid gray;flex-grow: 1;}#sk-2c817643-6183-4dd0-9454-49b3e2b89d37 div.sk-label:hover label.sk-toggleable__label {background-color: #d4ebff;}#sk-2c817643-6183-4dd0-9454-49b3e2b89d37 div.sk-serial::before {content: \"\";position: absolute;border-left: 1px solid gray;box-sizing: border-box;top: 2em;bottom: 0;left: 50%;}#sk-2c817643-6183-4dd0-9454-49b3e2b89d37 div.sk-serial {display: flex;flex-direction: column;align-items: center;background-color: white;padding-right: 0.2em;padding-left: 0.2em;}#sk-2c817643-6183-4dd0-9454-49b3e2b89d37 div.sk-item {z-index: 1;}#sk-2c817643-6183-4dd0-9454-49b3e2b89d37 div.sk-parallel {display: flex;align-items: stretch;justify-content: center;background-color: white;}#sk-2c817643-6183-4dd0-9454-49b3e2b89d37 div.sk-parallel::before {content: \"\";position: absolute;border-left: 1px solid gray;box-sizing: border-box;top: 2em;bottom: 0;left: 50%;}#sk-2c817643-6183-4dd0-9454-49b3e2b89d37 div.sk-parallel-item {display: flex;flex-direction: column;position: relative;background-color: white;}#sk-2c817643-6183-4dd0-9454-49b3e2b89d37 div.sk-parallel-item:first-child::after {align-self: flex-end;width: 50%;}#sk-2c817643-6183-4dd0-9454-49b3e2b89d37 div.sk-parallel-item:last-child::after {align-self: flex-start;width: 50%;}#sk-2c817643-6183-4dd0-9454-49b3e2b89d37 div.sk-parallel-item:only-child::after {width: 0;}#sk-2c817643-6183-4dd0-9454-49b3e2b89d37 div.sk-dashed-wrapped {border: 1px dashed gray;margin: 0 0.4em 0.5em 0.4em;box-sizing: border-box;padding-bottom: 0.4em;background-color: white;position: relative;}#sk-2c817643-6183-4dd0-9454-49b3e2b89d37 div.sk-label label {font-family: monospace;font-weight: bold;background-color: white;display: inline-block;line-height: 1.2em;}#sk-2c817643-6183-4dd0-9454-49b3e2b89d37 div.sk-label-container {position: relative;z-index: 2;text-align: center;}#sk-2c817643-6183-4dd0-9454-49b3e2b89d37 div.sk-container {/* jupyter's `normalize.less` sets `[hidden] { display: none; }` but bootstrap.min.css set `[hidden] { display: none !important; }` so we also need the `!important` here to be able to override the default hidden behavior on the sphinx rendered scikit-learn.org. See: https://github.com/scikit-learn/scikit-learn/issues/21755 */display: inline-block !important;position: relative;}#sk-2c817643-6183-4dd0-9454-49b3e2b89d37 div.sk-text-repr-fallback {display: none;}</style><div id=\"sk-2c817643-6183-4dd0-9454-49b3e2b89d37\" class=\"sk-top-container\"><div class=\"sk-text-repr-fallback\"><pre>GridSearchCV(cv=10,\n",
       "             estimator=Pipeline(steps=[(&#x27;tfidf&#x27;, TfidfVectorizer()),\n",
       "                                       (&#x27;norm&#x27;, Normalizer()),\n",
       "                                       (&#x27;model&#x27;, KNeighborsClassifier())]),\n",
       "             param_grid={&#x27;model__leaf_size&#x27;: [10, 20, 30],\n",
       "                         &#x27;model__metric&#x27;: [&#x27;euclidean&#x27;, &#x27;manhattan&#x27;,\n",
       "                                           &#x27;chebyshev&#x27;],\n",
       "                         &#x27;model__n_neighbors&#x27;: [3, 5, 7],\n",
       "                         &#x27;tfidf__max_df&#x27;: [0.8, 0.9],\n",
       "                         &#x27;tfidf__min_df&#x27;: [2, 4, 5],\n",
       "                         &#x27;tfidf__ngram_range&#x27;: [(1, 1), (1, 2)]},\n",
       "             scoring=make_scorer(f1_score, average=macro))</pre><b>Please rerun this cell to show the HTML repr or trust the notebook.</b></div><div class=\"sk-container\" hidden><div class=\"sk-item sk-dashed-wrapped\"><div class=\"sk-label-container\"><div class=\"sk-label sk-toggleable\"><input class=\"sk-toggleable__control sk-hidden--visually\" id=\"b0e2f644-4b75-4d5b-80ea-76795a18c27c\" type=\"checkbox\" ><label for=\"b0e2f644-4b75-4d5b-80ea-76795a18c27c\" class=\"sk-toggleable__label sk-toggleable__label-arrow\">GridSearchCV</label><div class=\"sk-toggleable__content\"><pre>GridSearchCV(cv=10,\n",
       "             estimator=Pipeline(steps=[(&#x27;tfidf&#x27;, TfidfVectorizer()),\n",
       "                                       (&#x27;norm&#x27;, Normalizer()),\n",
       "                                       (&#x27;model&#x27;, KNeighborsClassifier())]),\n",
       "             param_grid={&#x27;model__leaf_size&#x27;: [10, 20, 30],\n",
       "                         &#x27;model__metric&#x27;: [&#x27;euclidean&#x27;, &#x27;manhattan&#x27;,\n",
       "                                           &#x27;chebyshev&#x27;],\n",
       "                         &#x27;model__n_neighbors&#x27;: [3, 5, 7],\n",
       "                         &#x27;tfidf__max_df&#x27;: [0.8, 0.9],\n",
       "                         &#x27;tfidf__min_df&#x27;: [2, 4, 5],\n",
       "                         &#x27;tfidf__ngram_range&#x27;: [(1, 1), (1, 2)]},\n",
       "             scoring=make_scorer(f1_score, average=macro))</pre></div></div></div><div class=\"sk-parallel\"><div class=\"sk-parallel-item\"><div class=\"sk-item\"><div class=\"sk-serial\"><div class=\"sk-item\"><div class=\"sk-serial\"><div class=\"sk-item\"><div class=\"sk-estimator sk-toggleable\"><input class=\"sk-toggleable__control sk-hidden--visually\" id=\"34c07e45-5fb3-4fff-84ea-6034e93fdc5c\" type=\"checkbox\" ><label for=\"34c07e45-5fb3-4fff-84ea-6034e93fdc5c\" class=\"sk-toggleable__label sk-toggleable__label-arrow\">TfidfVectorizer</label><div class=\"sk-toggleable__content\"><pre>TfidfVectorizer()</pre></div></div></div><div class=\"sk-item\"><div class=\"sk-estimator sk-toggleable\"><input class=\"sk-toggleable__control sk-hidden--visually\" id=\"3191309b-177a-437f-b0c4-ec8b16a172f6\" type=\"checkbox\" ><label for=\"3191309b-177a-437f-b0c4-ec8b16a172f6\" class=\"sk-toggleable__label sk-toggleable__label-arrow\">Normalizer</label><div class=\"sk-toggleable__content\"><pre>Normalizer()</pre></div></div></div><div class=\"sk-item\"><div class=\"sk-estimator sk-toggleable\"><input class=\"sk-toggleable__control sk-hidden--visually\" id=\"726bd3cb-6fbc-4901-b134-af324978eecf\" type=\"checkbox\" ><label for=\"726bd3cb-6fbc-4901-b134-af324978eecf\" class=\"sk-toggleable__label sk-toggleable__label-arrow\">KNeighborsClassifier</label><div class=\"sk-toggleable__content\"><pre>KNeighborsClassifier()</pre></div></div></div></div></div></div></div></div></div></div></div></div>"
      ],
      "text/plain": [
       "GridSearchCV(cv=10,\n",
       "             estimator=Pipeline(steps=[('tfidf', TfidfVectorizer()),\n",
       "                                       ('norm', Normalizer()),\n",
       "                                       ('model', KNeighborsClassifier())]),\n",
       "             param_grid={'model__leaf_size': [10, 20, 30],\n",
       "                         'model__metric': ['euclidean', 'manhattan',\n",
       "                                           'chebyshev'],\n",
       "                         'model__n_neighbors': [3, 5, 7],\n",
       "                         'tfidf__max_df': [0.8, 0.9],\n",
       "                         'tfidf__min_df': [2, 4, 5],\n",
       "                         'tfidf__ngram_range': [(1, 1), (1, 2)]},\n",
       "             scoring=make_scorer(f1_score, average=macro))"
      ]
     },
     "execution_count": 39,
     "metadata": {},
     "output_type": "execute_result"
    },
    {
     "name": "stdout",
     "output_type": "stream",
     "text": [
      "The best score of the model is:  0.613\n",
      "The best estimator of the model is:  Pipeline(steps=[('tfidf',\n",
      "                 TfidfVectorizer(max_df=0.9, min_df=2, ngram_range=(1, 2))),\n",
      "                ('norm', Normalizer()),\n",
      "                ('model',\n",
      "                 KNeighborsClassifier(leaf_size=10, metric='euclidean'))])\n"
     ]
    }
   ],
   "source": [
    "for name, model in models:\n",
    "    pipeline = Pipeline([\n",
    "        ('tfidf', TfidfVectorizer()),\n",
    "        ('norm', preprocessing.Normalizer()),\n",
    "        ('model', model)\n",
    "    ])\n",
    "\n",
    "    params = set_params()\n",
    "     \n",
    "    set_config(display='diagram')      \n",
    "                                         \n",
    "                      \n",
    "    grid = GridSearchCV(pipeline, params, scoring=make_scorer(f1_score, average='macro'), cv=10)\n",
    "    grid.fit(X_train, y_train)\n",
    "\n",
    "    print(\"The best score of the model is: \", round(grid.best_score_, 3))\n",
    "    print(\"The best estimator of the model is: \", grid.best_estimator_)"
   ]
  },
  {
   "cell_type": "code",
   "execution_count": null,
   "metadata": {},
   "outputs": [],
   "source": []
  },
  {
   "cell_type": "code",
   "execution_count": null,
   "metadata": {},
   "outputs": [],
   "source": []
  },
  {
   "cell_type": "code",
   "execution_count": null,
   "metadata": {},
   "outputs": [],
   "source": []
  },
  {
   "cell_type": "code",
   "execution_count": null,
   "metadata": {},
   "outputs": [],
   "source": []
  },
  {
   "cell_type": "code",
   "execution_count": null,
   "metadata": {},
   "outputs": [],
   "source": []
  },
  {
   "attachments": {},
   "cell_type": "markdown",
   "metadata": {},
   "source": [
    "### Save output to csv (optional)\n",
    "After you're done save your output to the 'classification_results.csv' csv file.<br/>\n",
    "We assume that the dataframe with your results contain the following columns:\n",
    "* column 1 (left column): 'test_example_id'  - the same id associated to each of the test stories to be predicted.\n",
    "* column 2 (right column): 'predicted_category' - the predicted gender value for each of the associated story. \n",
    "\n",
    "Assuming your predicted values are in the `df_predicted` dataframe, you should save you're results as following:"
   ]
  },
  {
   "cell_type": "code",
   "execution_count": null,
   "metadata": {},
   "outputs": [],
   "source": [
    "df_predicted.to_csv('classification_results.csv',index=False)"
   ]
  }
 ],
 "metadata": {
  "celltoolbar": "Create Assignment",
  "kernelspec": {
   "display_name": "Python 3 (ipykernel)",
   "language": "python",
   "name": "python3"
  },
  "language_info": {
   "codemirror_mode": {
    "name": "ipython",
    "version": 3
   },
   "file_extension": ".py",
   "mimetype": "text/x-python",
   "name": "python",
   "nbconvert_exporter": "python",
   "pygments_lexer": "ipython3",
   "version": "3.9.12"
  }
 },
 "nbformat": 4,
 "nbformat_minor": 4
}
